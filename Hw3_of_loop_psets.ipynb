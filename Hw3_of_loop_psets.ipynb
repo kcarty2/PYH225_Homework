{
  "nbformat": 4,
  "nbformat_minor": 0,
  "metadata": {
    "colab": {
      "name": "Hw3 of loop_psets.ipynb",
      "provenance": [],
      "collapsed_sections": [
        "uVRP-haTUEUp",
        "qujIvC8iUFsS",
        "NZoDldAJT-ZZ",
        "JiG0W3n3T-Ze",
        "337FvlPKUNqp",
        "aeUUzlj2T-Z5",
        "DGA_yKgt7KuB",
        "34_iw8-4T-Zl",
        "XQbSY6kYT-Zo",
        "HvXqnAyuT-Z8",
        "OU_s6uQgUQf-",
        "FSN_Wqyf8UnQ",
        "kE68tEQnT-aE",
        "I-A5Y-oo8Una",
        "wtaxsnSST-aH",
        "l7AOi4Xa8Une",
        "pCsSUlIBT-aK"
      ],
      "include_colab_link": true
    },
    "kernelspec": {
      "name": "python3",
      "display_name": "Python 3"
    }
  },
  "cells": [
    {
      "cell_type": "markdown",
      "metadata": {
        "id": "view-in-github",
        "colab_type": "text"
      },
      "source": [
        "<a href=\"https://colab.research.google.com/github/kcarty2/PYH225_Homework/blob/master/Hw3_of_loop_psets.ipynb\" target=\"_parent\"><img src=\"https://colab.research.google.com/assets/colab-badge.svg\" alt=\"Open In Colab\"/></a>"
      ]
    },
    {
      "cell_type": "markdown",
      "metadata": {
        "id": "rvLI0ikiT-ZV",
        "colab_type": "text"
      },
      "source": [
        "#  LOOPS"
      ]
    },
    {
      "cell_type": "markdown",
      "metadata": {
        "id": "uVRP-haTUEUp",
        "colab_type": "text"
      },
      "source": [
        "## BASICS"
      ]
    },
    {
      "cell_type": "markdown",
      "metadata": {
        "id": "qujIvC8iUFsS",
        "colab_type": "text"
      },
      "source": [
        "### P1.PY"
      ]
    },
    {
      "cell_type": "code",
      "metadata": {
        "id": "RiZnK5MMT-ZW",
        "colab_type": "code",
        "outputId": "c620d7d9-2096-47d7-9d73-d0705c38f9c9",
        "colab": {
          "base_uri": "https://localhost:8080/",
          "height": 51
        }
      },
      "source": [
        "\"\"\"\n",
        "Odds & Evens\n",
        "\"\"\"\n",
        "\n",
        "# Use a loop to make a list of all odd numbers between 1 and 10 and another list with all the evens. When done, print the lists.\n",
        "\n",
        "evens = []\n",
        "odds = []\n",
        "i = 1\n",
        "\n",
        "while i <= 10:\n",
        "  if i % 2 != 0:\n",
        "    odds.append(i)\n",
        "  else:\n",
        "    evens.append(i)\n",
        "\n",
        "  i += 1\n",
        "print(odds, '\\n', evens)\n",
        "\n",
        "\n",
        "\n",
        "\n"
      ],
      "execution_count": 0,
      "outputs": [
        {
          "output_type": "stream",
          "text": [
            "[1, 3, 5, 7, 9] \n",
            " [2, 4, 6, 8, 10]\n"
          ],
          "name": "stdout"
        }
      ]
    },
    {
      "cell_type": "code",
      "metadata": {
        "id": "juIpW2U8zpti",
        "colab_type": "code",
        "colab": {}
      },
      "source": [
        ""
      ],
      "execution_count": 0,
      "outputs": []
    },
    {
      "cell_type": "markdown",
      "metadata": {
        "id": "NZoDldAJT-ZZ",
        "colab_type": "text"
      },
      "source": [
        "\n",
        "\n",
        "### P2.PY\n",
        "\n",
        "\n"
      ]
    },
    {
      "cell_type": "code",
      "metadata": {
        "id": "6BxOPOuET-Za",
        "colab_type": "code",
        "outputId": "0a836b93-2646-47ae-b3f7-7d0f4964a87a",
        "colab": {
          "base_uri": "https://localhost:8080/",
          "height": 51
        }
      },
      "source": [
        "\"\"\"\n",
        "Lists with Duplicates\n",
        "\"\"\"\n",
        "\n",
        "# First, print list a below as it is now.\n",
        "\n",
        "a = [2, 4, 10, 20, 5, 2, 20, 4]\n",
        "b = [13, 2, 25, 20, 4, 8]\n",
        "\n",
        "# Using a loop, remove the duplicate items from list a and print out the updated list.\n",
        "new_a = []\n",
        "for i in a:\n",
        "  if i not in new_a:\n",
        "    new_a.append(i)\n",
        "print(new_a)\n",
        "\n",
        "# Using a loop, merge list b into list a without adding any duplicates.\n",
        "\n",
        "merge_list = a + b\n",
        "new_a = []\n",
        "for i in merge_list:\n",
        " if i not in new_a:\n",
        "    new_a.append(i)\n",
        "\n",
        "print(new_a)\n",
        "\n",
        "\n"
      ],
      "execution_count": 0,
      "outputs": [
        {
          "output_type": "stream",
          "text": [
            "[2, 4, 10, 20, 5]\n",
            "[2, 4, 10, 20, 5, 13, 25, 8]\n"
          ],
          "name": "stdout"
        }
      ]
    },
    {
      "cell_type": "markdown",
      "metadata": {
        "id": "JiG0W3n3T-Ze",
        "colab_type": "text"
      },
      "source": [
        "\n",
        "\n",
        "### P3.PY\n",
        "\n",
        "\n"
      ]
    },
    {
      "cell_type": "code",
      "metadata": {
        "id": "PZY5tAw4T-Zf",
        "colab_type": "code",
        "outputId": "7c775d6c-ed9f-4b42-b0e3-298493b68bfa",
        "colab": {
          "base_uri": "https://localhost:8080/",
          "height": 34
        }
      },
      "source": [
        "\"\"\"\n",
        "Temperature Conversions\n",
        "\"\"\"\n",
        "\n",
        "# You're studying climate change, and over the last 3 years, you've recorded the temperature at noon every day in degrees Fahrenheit (F). The var sampleF holds a portion of those recordings. \n",
        "\n",
        "sampleF = [71.6, 82.4, 91.4, 107.6, 125.6]\n",
        "\n",
        "# Convert each item in this list into degrees Celsius and add the results to a dict called sample_temps so that the conversion of each day's temperature is easily accessible. For reference, the conversion equation between F and C is:\n",
        "# Celsius = (Fahrenheit - 32) * 5.0/9.0\n",
        "\n",
        "celsius = []\n",
        "sample_temps = {}\n",
        "\n",
        "for temps in sampleF:\n",
        "  conversion = round( (temps - 32) * 5.0 / 9.0 )\n",
        "  celsius.append(conversion) #list of celsius temperatures\n",
        "  sample_temps = dict(zip(sampleF, celsius))\n",
        "print(sample_temps)\n",
        "\n",
        "\n",
        "\n",
        "# sample_temps = \n",
        "\n"
      ],
      "execution_count": 0,
      "outputs": [
        {
          "output_type": "stream",
          "text": [
            "{71.6: 22, 82.4: 28, 91.4: 33, 107.6: 42, 125.6: 52}\n"
          ],
          "name": "stdout"
        }
      ]
    },
    {
      "cell_type": "code",
      "metadata": {
        "id": "F5i9FaNOXThJ",
        "colab_type": "code",
        "colab": {}
      },
      "source": [
        "\n",
        "\n",
        "Celsius = (Fahrenheit - 32) * 5.0/9.0"
      ],
      "execution_count": 0,
      "outputs": []
    },
    {
      "cell_type": "markdown",
      "metadata": {
        "id": "337FvlPKUNqp",
        "colab_type": "text"
      },
      "source": [
        "### P4.PY"
      ]
    },
    {
      "cell_type": "code",
      "metadata": {
        "id": "00D_V8BnT-Z2",
        "colab_type": "code",
        "outputId": "dbf30c70-f240-4a75-ba4b-e75becefb9bf",
        "colab": {
          "base_uri": "https://localhost:8080/",
          "height": 374
        }
      },
      "source": [
        "\"\"\"\n",
        "Control Flow - I\n",
        "\n",
        "Print the numbers in some range until you find a multiple of 7. \n",
        "At that point, print \"___ is the first multiple of 7 in this \n",
        "range.\" If the range does NOT include any multiples of 7, after \n",
        "you've printed the last number in the range, print \"There are \n",
        "no multiples of 7 in this range.\n",
        "\"\"\"\n",
        "\n",
        "#somehow get a random range\n",
        "#loop the range and look for multiples of 7\n",
        "#if found - print\n",
        "\n",
        "i = 7\n",
        "while i <= 144:\n",
        "    print(i)\n",
        "    i += 7\n",
        "print(i)"
      ],
      "execution_count": 14,
      "outputs": [
        {
          "output_type": "stream",
          "text": [
            "7\n",
            "14\n",
            "21\n",
            "28\n",
            "35\n",
            "42\n",
            "49\n",
            "56\n",
            "63\n",
            "70\n",
            "77\n",
            "84\n",
            "91\n",
            "98\n",
            "105\n",
            "112\n",
            "119\n",
            "126\n",
            "133\n",
            "140\n",
            "147\n"
          ],
          "name": "stdout"
        }
      ]
    },
    {
      "cell_type": "markdown",
      "metadata": {
        "id": "aeUUzlj2T-Z5",
        "colab_type": "text"
      },
      "source": [
        "\n",
        "\n",
        "### P5.PY\n",
        "\n",
        "\n"
      ]
    },
    {
      "cell_type": "code",
      "metadata": {
        "id": "BXM9shfoT-Z5",
        "colab_type": "code",
        "colab": {
          "base_uri": "https://localhost:8080/",
          "height": 130
        },
        "outputId": "be0b4553-72e3-442e-8a38-e3fd735272c5"
      },
      "source": [
        "\"\"\"\n",
        "Control Flow II\n",
        "\n",
        "Write a Python program that prints all the numbers from \n",
        "0 to 6 except 3 and 6. Note: Use a 'continue' statement. \n",
        "\"\"\"\n",
        "\n",
        "s = ''\n",
        "n = 7\n",
        "\n",
        "while n > 0:\n",
        "  n += 1\n",
        "  if int == 3\n",
        "  continue\n",
        "  if int == 6\n",
        "  continue\n",
        "print(n)\n",
        "\n",
        "\n",
        "\n"
      ],
      "execution_count": 39,
      "outputs": [
        {
          "output_type": "error",
          "ename": "SyntaxError",
          "evalue": "ignored",
          "traceback": [
            "\u001b[0;36m  File \u001b[0;32m\"<ipython-input-40-bf7920788ecd>\"\u001b[0;36m, line \u001b[0;32m12\u001b[0m\n\u001b[0;31m    if int == 3\u001b[0m\n\u001b[0m               ^\u001b[0m\n\u001b[0;31mSyntaxError\u001b[0m\u001b[0;31m:\u001b[0m invalid syntax\n"
          ]
        }
      ]
    },
    {
      "cell_type": "markdown",
      "metadata": {
        "id": "DGA_yKgt7KuB",
        "colab_type": "text"
      },
      "source": [
        "## FACTORS"
      ]
    },
    {
      "cell_type": "markdown",
      "metadata": {
        "id": "1WCBfmzxT-Zi",
        "colab_type": "text"
      },
      "source": [
        "\n",
        "\n",
        "### P1.PY\n",
        "\n",
        "\n"
      ]
    },
    {
      "cell_type": "code",
      "metadata": {
        "id": "D3n41TY3T-Zi",
        "colab_type": "code",
        "colab": {
          "base_uri": "https://localhost:8080/",
          "height": 249
        },
        "outputId": "47a78539-76d4-4100-966a-c51479b267a8"
      },
      "source": [
        "\"\"\"\n",
        "Factorial\n",
        "\"\"\"\n",
        "\n",
        "# Find the factorial of a number input by a user. Then print out the factors within the factorial and then print out the actual numeric answer. Hint: The formula for a factorial is n! = (n-1)*n.\n",
        "\n",
        "\n",
        "# Example output:\n",
        "\"\"\"\n",
        "8! = 8*7*6*5*4*3*2*1\n",
        "8! = 40320\n",
        "\"\"\"\n",
        "\n",
        "user_input = input('Enter a number to find its factorial: ')\n",
        "\n",
        "num = int(user_input)\n",
        "product = 1\n",
        "\n",
        "for i in range(1, num+1):\n",
        "  product = product * i\n",
        "\n",
        "print(product)"
      ],
      "execution_count": 41,
      "outputs": [
        {
          "output_type": "stream",
          "text": [
            "Enter a number to find its factorial: 8\n"
          ],
          "name": "stdout"
        },
        {
          "output_type": "error",
          "ename": "TypeError",
          "evalue": "ignored",
          "traceback": [
            "\u001b[0;31m---------------------------------------------------------------------------\u001b[0m",
            "\u001b[0;31mTypeError\u001b[0m                                 Traceback (most recent call last)",
            "\u001b[0;32m<ipython-input-41-e8bfee83e704>\u001b[0m in \u001b[0;36m<module>\u001b[0;34m()\u001b[0m\n\u001b[1;32m     17\u001b[0m \u001b[0mproduct\u001b[0m \u001b[0;34m=\u001b[0m \u001b[0;36m1\u001b[0m\u001b[0;34m\u001b[0m\u001b[0;34m\u001b[0m\u001b[0m\n\u001b[1;32m     18\u001b[0m \u001b[0;34m\u001b[0m\u001b[0m\n\u001b[0;32m---> 19\u001b[0;31m \u001b[0;32mfor\u001b[0m \u001b[0mi\u001b[0m \u001b[0;32min\u001b[0m \u001b[0mrange\u001b[0m\u001b[0;34m(\u001b[0m\u001b[0;36m1\u001b[0m\u001b[0;34m,\u001b[0m \u001b[0mnum\u001b[0m\u001b[0;34m+\u001b[0m\u001b[0;36m1\u001b[0m\u001b[0;34m)\u001b[0m\u001b[0;34m:\u001b[0m\u001b[0;34m\u001b[0m\u001b[0;34m\u001b[0m\u001b[0m\n\u001b[0m\u001b[1;32m     20\u001b[0m   \u001b[0mproduct\u001b[0m \u001b[0;34m=\u001b[0m \u001b[0mproduct\u001b[0m \u001b[0;34m*\u001b[0m \u001b[0mi\u001b[0m\u001b[0;34m\u001b[0m\u001b[0;34m\u001b[0m\u001b[0m\n\u001b[1;32m     21\u001b[0m \u001b[0;34m\u001b[0m\u001b[0m\n",
            "\u001b[0;31mTypeError\u001b[0m: 'list' object is not callable"
          ]
        }
      ]
    },
    {
      "cell_type": "markdown",
      "metadata": {
        "id": "34_iw8-4T-Zl",
        "colab_type": "text"
      },
      "source": [
        "\n",
        "\n",
        "### P2.PY\n",
        "\n",
        "\n"
      ]
    },
    {
      "cell_type": "code",
      "metadata": {
        "id": "EnPbAafST-Zm",
        "colab_type": "code",
        "colab": {}
      },
      "source": [
        "\"\"\"\n",
        "Factors\n",
        "\"\"\"\n",
        "\n",
        "# Find all factors of a number that a user inputs and print out 'The factors of <the_user_input_number> are: '.\n",
        "\n",
        "user_input = input('Enter a number to find its factors: ')\n"
      ],
      "execution_count": 0,
      "outputs": []
    },
    {
      "cell_type": "markdown",
      "metadata": {
        "id": "XQbSY6kYT-Zo",
        "colab_type": "text"
      },
      "source": [
        "\n",
        "\n",
        "### P3.PY\n",
        "\n",
        "\n"
      ]
    },
    {
      "cell_type": "code",
      "metadata": {
        "id": "YFYeCVqWT-Zp",
        "colab_type": "code",
        "colab": {}
      },
      "source": [
        "\"\"\"\n",
        "GCD\n",
        "\"\"\"\n",
        "\n",
        "# Find the greatest common denominator (GCD) of two number input by a user. Then print out 'The GCD of <first number> and <second number> is <your result>.'\n",
        "\n",
        "print('Enter two numbers to find their greatest common denominator.')\n",
        "\n",
        "user_input1 = input('First number: ')\n",
        "user_input2 = input('Second number: ')"
      ],
      "execution_count": 0,
      "outputs": []
    },
    {
      "cell_type": "markdown",
      "metadata": {
        "id": "HvXqnAyuT-Z8",
        "colab_type": "text"
      },
      "source": [
        "## SHAPES\n",
        "\n",
        "\n"
      ]
    },
    {
      "cell_type": "markdown",
      "metadata": {
        "id": "OU_s6uQgUQf-",
        "colab_type": "text"
      },
      "source": [
        "### P1.PY"
      ]
    },
    {
      "cell_type": "code",
      "metadata": {
        "id": "ruFtcQasT-Z9",
        "colab_type": "code",
        "colab": {}
      },
      "source": [
        "\"\"\"\n",
        "Build a Triangle I \n",
        "\n",
        "Use a FOR loop to print a triangle of stars that looks like this:\n",
        "\n",
        "*\n",
        "**\n",
        "***\n",
        "****\n",
        "*****\n",
        "\n",
        "\"\"\"\n"
      ],
      "execution_count": 0,
      "outputs": []
    },
    {
      "cell_type": "markdown",
      "metadata": {
        "colab_type": "text",
        "id": "FSN_Wqyf8UnQ"
      },
      "source": [
        "### P2.PY"
      ]
    },
    {
      "cell_type": "code",
      "metadata": {
        "colab_type": "code",
        "id": "6oJisy5A8UnV",
        "colab": {}
      },
      "source": [
        "\"\"\"\n",
        "Build a Triangle II\n",
        "\n",
        "Use a WHILE loop to print a triangle of stars that looks like this:\n",
        "\n",
        "*\n",
        "**\n",
        "***\n",
        "****\n",
        "*****\n",
        "\n",
        "\"\"\""
      ],
      "execution_count": 0,
      "outputs": []
    },
    {
      "cell_type": "markdown",
      "metadata": {
        "id": "kE68tEQnT-aE",
        "colab_type": "text"
      },
      "source": [
        "\n",
        "\n",
        "### P3.PY\n",
        "\n",
        "\n"
      ]
    },
    {
      "cell_type": "code",
      "metadata": {
        "id": "n2pxG5J6T-aF",
        "colab_type": "code",
        "colab": {}
      },
      "source": [
        "\"\"\"\n",
        "Build a Pyramid I\n",
        "\n",
        "Use a FOR loop to print a pyramid of stars that looks like this:\n",
        "\n",
        "    *\n",
        "   ***\n",
        "  *****\n",
        " *******\n",
        "*********\n",
        "\n",
        "\"\"\"\n"
      ],
      "execution_count": 0,
      "outputs": []
    },
    {
      "cell_type": "markdown",
      "metadata": {
        "colab_type": "text",
        "id": "I-A5Y-oo8Una"
      },
      "source": [
        "### P4.PY\n"
      ]
    },
    {
      "cell_type": "code",
      "metadata": {
        "colab_type": "code",
        "id": "UwNy5b028Unb",
        "colab": {}
      },
      "source": [
        "\"\"\"\n",
        "Build a Pyramid II\n",
        "\n",
        "Use a WHILE loop to print a pyramid of stars that looks like this:\n",
        "\n",
        "    *\n",
        "   ***\n",
        "  *****\n",
        " *******\n",
        "*********\n",
        "\n",
        "\"\"\"\n"
      ],
      "execution_count": 0,
      "outputs": []
    },
    {
      "cell_type": "markdown",
      "metadata": {
        "id": "wtaxsnSST-aH",
        "colab_type": "text"
      },
      "source": [
        "\n",
        "\n",
        "### P5.PY\n",
        "\n",
        "\n"
      ]
    },
    {
      "cell_type": "code",
      "metadata": {
        "id": "fiYt3OQrT-aI",
        "colab_type": "code",
        "colab": {}
      },
      "source": [
        "\"\"\"\n",
        "Build a Diamond I\n",
        "\n",
        "Use a FOR loop to print a diamond of stars that looks like this:\n",
        "\n",
        "    *\n",
        "   ***\n",
        "  *****\n",
        " *******\n",
        "*********\n",
        " *******\n",
        "  *****\n",
        "   ***\n",
        "    *\n",
        "\"\"\"\n"
      ],
      "execution_count": 0,
      "outputs": []
    },
    {
      "cell_type": "markdown",
      "metadata": {
        "colab_type": "text",
        "id": "l7AOi4Xa8Une"
      },
      "source": [
        "### P6.PY"
      ]
    },
    {
      "cell_type": "code",
      "metadata": {
        "colab_type": "code",
        "id": "oK7nfy_D8Unj",
        "colab": {}
      },
      "source": [
        "\"\"\"\n",
        "Build a Diamond II\n",
        "\n",
        "Use a WHILE loop to print a diamond of stars that looks like this:\n",
        "\n",
        "    *\n",
        "   ***\n",
        "  *****\n",
        " *******\n",
        "*********\n",
        " *******\n",
        "  *****\n",
        "   ***\n",
        "    *\n",
        "\"\"\""
      ],
      "execution_count": 0,
      "outputs": []
    },
    {
      "cell_type": "markdown",
      "metadata": {
        "id": "pCsSUlIBT-aK",
        "colab_type": "text"
      },
      "source": [
        "## LOOP_CHALLENGES\n",
        "\n"
      ]
    },
    {
      "cell_type": "markdown",
      "metadata": {
        "id": "jwd1KZXKUTAc",
        "colab_type": "text"
      },
      "source": [
        "### P1.PY"
      ]
    },
    {
      "cell_type": "code",
      "metadata": {
        "id": "cKlAnBVhT-aL",
        "colab_type": "code",
        "colab": {}
      },
      "source": [
        "\"\"\"\n",
        "Valid Passwords\n",
        "\"\"\"\n",
        "\n",
        "# Check the validity of password input by users based on the below security requirements: At least 1 letter between [a-z] and 1 letter between [A-Z].\n",
        "\"\"\"\n",
        "# At least 1 letter between [a-z] and 1 letter between [A-Z].\n",
        "#At least 1 number between [0-9].\n",
        "At least 1 character from [$#@].\n",
        "Minimum length 6 characters.\n",
        "Maximum length 16 characters.\n",
        "\"\"\"\n",
        "\n",
        "\n",
        "# Hint: Look up the documentation for the \"re\" library and it's \".search()\" method.\n",
        "\n",
        "# p = input(\"Input your password: \")"
      ],
      "execution_count": 0,
      "outputs": []
    },
    {
      "cell_type": "markdown",
      "metadata": {
        "id": "lDd1dMe5T-aN",
        "colab_type": "text"
      },
      "source": [
        "\n",
        "\n",
        "### P2.PY\n",
        "\n",
        "\n"
      ]
    },
    {
      "cell_type": "code",
      "metadata": {
        "id": "n8kuflOLT-aR",
        "colab_type": "code",
        "colab": {}
      },
      "source": [
        "\"\"\"\n",
        "Prime Numbers I\n",
        "\"\"\"\n",
        "\n",
        "# Check if a number input by a user is prime or not. If it is NOT a prime number, print out that it is not a prime number. If it IS a prime number, print out that it is a prime number and give an example of two of its factors. Hint: Prime numbers must be greater than 1.\n",
        "\n",
        "# Example of output for a NON-prime:\n",
        "# 12 is not a prime number\n",
        "# For example, 2 x 6 = 12\n",
        "\n",
        "\n",
        "\n",
        "# user_input = input(\"Enter a number to check if it's prime: \")\n",
        "\n"
      ],
      "execution_count": 0,
      "outputs": []
    }
  ]
}