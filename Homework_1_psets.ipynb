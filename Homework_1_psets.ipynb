{
  "nbformat": 4,
  "nbformat_minor": 0,
  "metadata": {
    "colab": {
      "name": "Homework_1_psets.ipynb",
      "provenance": [],
      "collapsed_sections": [
        "poqjlnEOVrWh",
        "0o8YPHxoVrWL"
      ],
      "include_colab_link": true
    },
    "kernelspec": {
      "name": "python3",
      "display_name": "Python 3"
    }
  },
  "cells": [
    {
      "cell_type": "markdown",
      "metadata": {
        "id": "view-in-github",
        "colab_type": "text"
      },
      "source": [
        "<a href=\"https://colab.research.google.com/github/kcarty2/PYH225_Homework/blob/master/Homework_1_psets.ipynb\" target=\"_parent\"><img src=\"https://colab.research.google.com/assets/colab-badge.svg\" alt=\"Open In Colab\"/></a>"
      ]
    },
    {
      "cell_type": "markdown",
      "metadata": {
        "id": "hFmxhgDQVrV8",
        "colab_type": "text"
      },
      "source": [
        "#  BASIC DATA TYPES\n",
        "\n"
      ]
    },
    {
      "cell_type": "markdown",
      "metadata": {
        "id": "uayAR97cWGX1",
        "colab_type": "text"
      },
      "source": [
        "## EASY"
      ]
    },
    {
      "cell_type": "markdown",
      "metadata": {
        "id": "CXt8F7evWHum",
        "colab_type": "text"
      },
      "source": [
        "### P1.PY"
      ]
    },
    {
      "cell_type": "code",
      "metadata": {
        "id": "gYyR5LKAVrWA",
        "colab_type": "code",
        "colab": {}
      },
      "source": [
        "\"\"\"\n",
        "Placeholders\n",
        "\"\"\"\n",
        "\n",
        "# You're writing a program, and you don't know what your starting value for your 'initial' variable is yet. The program won't run if you leave it blank, but you don't want to forget you need it! Make a workaround."
      ],
      "execution_count": 0,
      "outputs": []
    },
    {
      "cell_type": "code",
      "metadata": {
        "id": "4ZXQzVbv3dAs",
        "colab_type": "code",
        "colab": {}
      },
      "source": [
        "Placeholer = None"
      ],
      "execution_count": 0,
      "outputs": []
    },
    {
      "cell_type": "markdown",
      "metadata": {
        "id": "ujd4_d5VVrWD",
        "colab_type": "text"
      },
      "source": [
        "\n",
        "\n",
        "### P2.PY\n",
        "\n",
        "\n"
      ]
    },
    {
      "cell_type": "code",
      "metadata": {
        "id": "9p_mg-MjVrWE",
        "colab_type": "code",
        "outputId": "71cf5c76-ffab-4f01-bd3b-d86213e03a77",
        "colab": {
          "base_uri": "https://localhost:8080/",
          "height": 51
        }
      },
      "source": [
        "\"\"\"\n",
        "Basic Variables\n",
        "\"\"\"\n",
        "\n",
        "# Create a variable that represents your favorite number, and add a note to remind yourself what this variable represents. Now print it out without re-typing the number.\n",
        "\n",
        "\n",
        "\n",
        "# Create another variable that represents your favorite color, and do the same steps as above.\n",
        "Favorite_number = 11\n",
        "#Favorite basketball jersey number\n",
        "print(Favorite_number)\n",
        "\n",
        "Favorite_color = 'white'\n",
        "#Favorite car color\n",
        "print(Favorite_color)\n",
        "\n",
        "\n",
        "\n"
      ],
      "execution_count": 0,
      "outputs": [
        {
          "output_type": "stream",
          "text": [
            "11\n",
            "white\n"
          ],
          "name": "stdout"
        }
      ]
    },
    {
      "cell_type": "markdown",
      "metadata": {
        "id": "VbaMGAAYVrWH",
        "colab_type": "text"
      },
      "source": [
        "\n",
        "\n",
        "### P3.PY\n",
        "\n",
        "\n"
      ]
    },
    {
      "cell_type": "code",
      "metadata": {
        "id": "2i4mFvLGVrWI",
        "colab_type": "code",
        "outputId": "55fc2d2e-d280-445a-bcba-309b1d050a96",
        "colab": {
          "base_uri": "https://localhost:8080/",
          "height": 187
        }
      },
      "source": [
        "\"\"\"\n",
        "String Formatting\n",
        "\"\"\"\n",
        "\n",
        "# Create a variable that contains the first 4 lines of lyrics from your favorite song. Add a comment that includes the song title and artist **each on their own line**! Now print out this variable.\n",
        "\n",
        "favorite_song_lyrics = \"\"\"\n",
        "\"How you can grant your woman access to your villa\n",
        "Trespasser and a witness while you cling to your pillow\n",
        "You better watch your back before she turn into a killer\n",
        "Let's review the situation that you're caught up inna\n",
        "To be a true player you have to know how to play\n",
        "If she\"\n",
        "\"\"\"\n",
        "Song_title = \"It Wasn't me\"\n",
        "Artist = \"Shaggy\"\n",
        "print(Song_title)\n",
        "print(Artist)\n",
        "print(favorite_song_lyrics)"
      ],
      "execution_count": 2,
      "outputs": [
        {
          "output_type": "stream",
          "text": [
            "It Wasn't me\n",
            "Shaggy\n",
            "\n",
            "\"How you can grant your woman access to your villa\n",
            "Trespasser and a witness while you cling to your pillow\n",
            "You better watch your back before she turn into a killer\n",
            "Let's review the situation that you're caught up inna\n",
            "To be a true player you have to know how to play\n",
            "If she\"\n",
            "\n"
          ],
          "name": "stdout"
        }
      ]
    },
    {
      "cell_type": "markdown",
      "metadata": {
        "id": "poqjlnEOVrWh",
        "colab_type": "text"
      },
      "source": [
        "## OPERATORS\n",
        "\n",
        "\n",
        "\n"
      ]
    },
    {
      "cell_type": "markdown",
      "metadata": {
        "id": "3j0bS-HcWNLi",
        "colab_type": "text"
      },
      "source": [
        "### P1.PY"
      ]
    },
    {
      "cell_type": "code",
      "metadata": {
        "id": "poP19mJxVrWi",
        "colab_type": "code",
        "outputId": "ba47393f-6dc7-434f-cdef-d49fc96b63e4",
        "colab": {
          "base_uri": "https://localhost:8080/",
          "height": 119
        }
      },
      "source": [
        "\"\"\"\n",
        "Game Show Score\n",
        "\"\"\"\n",
        "\n",
        "# Imagine the var below represents the latest score of a competitor on a game show. As this person plays, you need to update their score to reflect gains and losses in points. Each math operation below dictates the change in the competitor's score to be made after each of his or her actions.\n",
        "\n",
        "# Complete the below math operations and print the results to show the changes in the competitor's score throughout the game.\n",
        "\n",
        "latest_score = 100\n",
        "print(latest_score)\n",
        "\n",
        "# Add 50\n",
        "\n",
        "\n",
        "\n",
        "# Subtract 90\n",
        "\n",
        "\n",
        "\n",
        "# Multiply 10\n",
        "\n",
        "\n",
        "\n",
        "# Divide 150\n",
        "\n",
        "\n",
        "\n",
        "# Modulus 3\n",
        "\n",
        "\n",
        "latest_score = 100\n",
        "\n",
        "latest_score += 50\n",
        "print(latest_score)\n",
        "latest_score -= 90\n",
        "print(latest_score)\n",
        "latest_score *= 10\n",
        "print(latest_score)\n",
        "latest_score /= 150\n",
        "print(latest_score)\n",
        "latest_score %= 3\n",
        "print(latest_score)"
      ],
      "execution_count": 0,
      "outputs": [
        {
          "output_type": "stream",
          "text": [
            "100\n",
            "150\n",
            "60\n",
            "600\n",
            "4.0\n",
            "1.0\n"
          ],
          "name": "stdout"
        }
      ]
    },
    {
      "cell_type": "markdown",
      "metadata": {
        "id": "WAYZJHHgVrWk",
        "colab_type": "text"
      },
      "source": [
        "\n",
        "\n",
        "### P2.PY\n",
        "\n",
        "\n"
      ]
    },
    {
      "cell_type": "code",
      "metadata": {
        "id": "P067XIZ8VrWl",
        "colab_type": "code",
        "colab": {}
      },
      "source": [
        "\"\"\"\n",
        "String Operators\n",
        "\"\"\"\n",
        "\n",
        "# Create two variables, each of which is half of a compound sentence. \n",
        "## Example compound sentence: \"I'll go to the beach today, and I'll go snorkeling.\" "
      ],
      "execution_count": 0,
      "outputs": []
    },
    {
      "cell_type": "markdown",
      "metadata": {
        "id": "TqqaKHjuVrWn",
        "colab_type": "text"
      },
      "source": [
        "\n",
        "\n",
        "### P3.PY\n",
        "\n",
        "\n"
      ]
    },
    {
      "cell_type": "code",
      "metadata": {
        "id": "H7kysyPYVrWo",
        "colab_type": "code",
        "outputId": "a454f0d4-a31a-49e3-cede-c6028bf5d9e7",
        "colab": {
          "base_uri": "https://localhost:8080/",
          "height": 68
        }
      },
      "source": [
        "\"\"\"\n",
        "Addition I - Numbers & Strings\n",
        "\"\"\"\n",
        "\n",
        "# Add the below sets of variables together without causing any Type Errors. \n",
        "\n",
        "# A)\n",
        "a = 0\n",
        "b = 2\n",
        "sum_ab = a + b\n",
        "print(sum_ab)\n",
        "\n",
        "# B)\n",
        "c = '0'\n",
        "d = '2'\n",
        "sum_cd = c + d\n",
        "print(sum_cd)\n",
        "\n",
        "\n",
        "\n",
        "# C)\n",
        "e = '0'\n",
        "f = 2\n",
        "\n",
        "try:\n",
        "  Sum_ef = e + f\n",
        "except TypeError: \n",
        "  print(\"E and F are not the same type\")"
      ],
      "execution_count": 0,
      "outputs": [
        {
          "output_type": "stream",
          "text": [
            "2\n",
            "02\n",
            "E and F are not the same type\n"
          ],
          "name": "stdout"
        }
      ]
    },
    {
      "cell_type": "markdown",
      "metadata": {
        "id": "T4rtuQ1CVrWr",
        "colab_type": "text"
      },
      "source": [
        "\n",
        "\n",
        "### P4.PY\n",
        "\n",
        "\n"
      ]
    },
    {
      "cell_type": "code",
      "metadata": {
        "id": "eCkVtKI8VrWs",
        "colab_type": "code",
        "outputId": "670138ce-b52d-413e-ec6e-c689483c09b6",
        "colab": {
          "base_uri": "https://localhost:8080/",
          "height": 68
        }
      },
      "source": [
        "\"\"\"\n",
        "Addition II - Booleans\n",
        "\"\"\"\n",
        "\n",
        "# Add the below sets of variables together.\n",
        "\n",
        "# A)\n",
        "a = True\n",
        "b = True\n",
        "\n",
        "a=str(True) #True\n",
        "b=str(True) #True\n",
        "\n",
        "ab_sum = a and b\n",
        "print(ab_sum)\n",
        "\n",
        "\n",
        "# B)\n",
        "c = False\n",
        "d = False\n",
        "c=str(False) #False\n",
        "d=str(False) #False\n",
        "print(c and d)\n",
        "\n",
        "\n",
        "# C)\n",
        "e = True\n",
        "f = False\n",
        "e=str(True) #true\n",
        "f=str(False) #false\n",
        "print(e and f)"
      ],
      "execution_count": 0,
      "outputs": [
        {
          "output_type": "stream",
          "text": [
            "True\n",
            "False\n",
            "False\n"
          ],
          "name": "stdout"
        }
      ]
    },
    {
      "cell_type": "markdown",
      "metadata": {
        "id": "0o8YPHxoVrWL",
        "colab_type": "text"
      },
      "source": [
        "## TYPECASTING\n",
        "\n"
      ]
    },
    {
      "cell_type": "markdown",
      "metadata": {
        "id": "XlNf2YptWKVu",
        "colab_type": "text"
      },
      "source": [
        "### P1.PY"
      ]
    },
    {
      "cell_type": "code",
      "metadata": {
        "id": "LDgWvrWzVrWM",
        "colab_type": "code",
        "outputId": "b2efbf3e-ec36-4f3c-a609-04b13e11b3c0",
        "colab": {
          "base_uri": "https://localhost:8080/",
          "height": 85
        }
      },
      "source": [
        "\"\"\"\n",
        "Typcasting w. Integers & Floats\n",
        "\"\"\"\n",
        "\n",
        "# Convert these numbers into floats and back. Print out each result as well as its data type.\n",
        "\n",
        "five = 5\n",
        "five = float(5)\n",
        "print(five)\n",
        "\n",
        "zero = 0\n",
        "zero = float(0)\n",
        "print(zero)\n",
        "\n",
        "neg_8 = -8\n",
        "neg_8 = float(-8)\n",
        "print(neg_8)\n",
        "\n",
        "neg_22 = -22\n",
        "neg_22 = float(-22)\n",
        "print(neg_22)\n"
      ],
      "execution_count": 0,
      "outputs": [
        {
          "output_type": "stream",
          "text": [
            "5.0\n",
            "0.0\n",
            "-8.0\n",
            "-22.0\n"
          ],
          "name": "stdout"
        }
      ]
    },
    {
      "cell_type": "markdown",
      "metadata": {
        "id": "HWOwfU00VrWS",
        "colab_type": "text"
      },
      "source": [
        "\n",
        "\n",
        "### P2.PY\n",
        "\n",
        "\n"
      ]
    },
    {
      "cell_type": "code",
      "metadata": {
        "id": "_5-k5J4mVrWT",
        "colab_type": "code",
        "outputId": "18c0dc22-046d-4b81-b3be-cfe46e5f3b9c",
        "colab": {
          "base_uri": "https://localhost:8080/",
          "height": 187
        }
      },
      "source": [
        "\"\"\"\n",
        "Typcasting w. Strings\n",
        "\"\"\"\n",
        "\n",
        "# Convert these variables into strings and then back to their original data types. Print out each result as well as its data type. \n",
        "# What do you notice about the last one?\n",
        "\n",
        "five = 5\n",
        "five_str = str(five)\n",
        "print(five_str)\n",
        "\n",
        "five_str = int(five)\n",
        "print(five_str)\n",
        "\n",
        "zero = 0\n",
        "zero = str(0) #string\n",
        "zero_int = int(zero) #back to integer\n",
        "print(zero)\n",
        "print(zero_int)\n",
        "\n",
        "\n",
        "neg_8 = -8\n",
        "neg_8_str = str(-8) #String\n",
        "neg_8_int = int(neg_8_str) #back to integer\n",
        "print(neg_8_str)\n",
        "print(neg_8_int)\n",
        "\n",
        "T = True\n",
        "F = False\n",
        "string_int_true = int(True) #String to integer True\n",
        "string_int_false = int(False) #String to integer False\n",
        "int_string_true = str(string_int_true) #integer to string True\n",
        "int_string_false = str(string_int_false) #integer to string False\n",
        "print(string_int_true)\n",
        "print(string_int_false)\n",
        "print(int_string_true)\n",
        "print(int_string_false)\n",
        "\n",
        "# That both variables are booleans. As expexted, 1 = ture, and 0 =false"
      ],
      "execution_count": 0,
      "outputs": [
        {
          "output_type": "stream",
          "text": [
            "5\n",
            "5\n",
            "0\n",
            "0\n",
            "-8\n",
            "-8\n",
            "1\n",
            "0\n",
            "1\n",
            "0\n"
          ],
          "name": "stdout"
        }
      ]
    },
    {
      "cell_type": "markdown",
      "metadata": {
        "id": "FO_LansxVrWV",
        "colab_type": "text"
      },
      "source": [
        "\n",
        "\n",
        "### P3.PY\n",
        "\n",
        "\n"
      ]
    },
    {
      "cell_type": "code",
      "metadata": {
        "id": "bSVcghffVrWW",
        "colab_type": "code",
        "outputId": "72937df0-e3a4-4b07-ea90-4957030a0659",
        "colab": {
          "base_uri": "https://localhost:8080/",
          "height": 170
        }
      },
      "source": [
        "\"\"\"\n",
        "Booleans I - Typecasting w. Numbers\n",
        "\"\"\"\n",
        "\n",
        "# A) Use typecasting to turn these variables into boolean values. Print the result and the datatype of the result. \n",
        "\n",
        "one = 1\n",
        "zero = 0\n",
        "\n",
        "one = bool(1) #true\n",
        "zero = bool(0) #false\n",
        "print(one)\n",
        "print(zero)\n",
        "\n",
        "\n",
        "\n",
        "# B) Use typecasting to turn the resultant variables from part A into floats. Print the result and the datatype of the result.\n",
        "one = float(True) #true = 1\n",
        "zero = float(False) #false = 0\n",
        "print(one)\n",
        "print(zero) \n",
        "\n",
        "\n",
        "\n",
        "# C) Use typecasting to turn the resultant variables from part B back into booleans. Print the result and the datatype of the result.\n",
        "one = bool(1)\n",
        "zero = bool(0)\n",
        "print(one)\n",
        "print(zero)\n",
        "\n",
        "# C) Use typecasting to turn the resultant variables from part C into integers. Print the result and the datatype of the result.\n",
        "one = int(True)\n",
        "zero = int(False)\n",
        "print(one)\n",
        "print(zero)\n",
        "\n",
        "# E) Use typecasting to turn the variable below into a boolean value. Print the result and the datatype of the result. \n",
        "\n",
        "ten = 10\n",
        "ten_bool = bool(ten)\n",
        "print(ten_bool)\n"
      ],
      "execution_count": 0,
      "outputs": [
        {
          "output_type": "stream",
          "text": [
            "True\n",
            "False\n",
            "1.0\n",
            "0.0\n",
            "True\n",
            "False\n",
            "1\n",
            "0\n",
            "True\n"
          ],
          "name": "stdout"
        }
      ]
    },
    {
      "cell_type": "markdown",
      "metadata": {
        "id": "Q7lEbfSQVrWc",
        "colab_type": "text"
      },
      "source": [
        "\n",
        "\n",
        "### P4.PY\n",
        "\n",
        "\n"
      ]
    },
    {
      "cell_type": "code",
      "metadata": {
        "id": "YFLt2TDXVrWf",
        "colab_type": "code",
        "outputId": "3f06c1ac-0686-4388-e1fc-05494bb94e46",
        "colab": {
          "base_uri": "https://localhost:8080/",
          "height": 119
        }
      },
      "source": [
        "\"\"\"\n",
        "Booleans II - Typecasting w. Strings\n",
        "\"\"\"\n",
        "\n",
        "# A) Use typecasting to turn these variables into boolean values. Print the result and the datatype of the result. \n",
        "\n",
        "one = 1\n",
        "zero = 0\n",
        "\n",
        "one = bool(1)\n",
        "zero = bool (0)\n",
        "print(one)\n",
        "print(zero)\n",
        "\n",
        "\n",
        "# B) Use typecasting to turn the latest values for variables 'one' and 'zero' back into integers. Print the result and the datatype of the result.\n",
        "\n",
        "one = int(one)\n",
        "zero = int(zero)\n",
        "print(one)\n",
        "print(zero)\n",
        "\n",
        "# C) Use typecasting to turn the latest values for variables 'T' and 'F' back into boolean values. Print the result and the datatype of the result.\n",
        "\n",
        "Variable_T = bool(one) #true\n",
        "Variable_F = bool(zero) #false\n",
        "print(Variable_T)\n",
        "print(Variable_F)\n",
        "\n"
      ],
      "execution_count": 0,
      "outputs": [
        {
          "output_type": "stream",
          "text": [
            "True\n",
            "False\n",
            "1\n",
            "0\n",
            "True\n",
            "False\n"
          ],
          "name": "stdout"
        }
      ]
    },
    {
      "cell_type": "markdown",
      "metadata": {
        "id": "pRORE6K8VrWy",
        "colab_type": "text"
      },
      "source": [
        "## SHOPPING_LIST\n",
        "\n",
        "\n"
      ]
    },
    {
      "cell_type": "markdown",
      "metadata": {
        "id": "sX291wpjWQea",
        "colab_type": "text"
      },
      "source": [
        "### P1.PY"
      ]
    },
    {
      "cell_type": "code",
      "metadata": {
        "id": "kH5HZBmiVrWy",
        "colab_type": "code",
        "colab": {}
      },
      "source": [
        "\"\"\"\n",
        "Shopping List Calculator I\n",
        "\"\"\"\n",
        "\n",
        "# Create five variables,\n",
        "# set them to strings that represent 5 common shopping list items\n",
        "\n",
        "\n",
        "item_name_1 = \"Milk\"\n",
        "item_name_2 = \"Apples\"\n",
        "item_name_3 = \"Water\"\n",
        "item_name_4 = \"Chicken\"\n",
        "item_name_5 = \"Grapes\"\n",
        "\n",
        "\n",
        "# Create five more variables,\n",
        "# set them to floats that represent the prices of each of the items above\n",
        "\n",
        "item_price_1 = 3.99\n",
        "item_price_2 = 4.98\n",
        "item_price_3 = 3.95\n",
        "item_price_4 = 22.30\n",
        "item_price_5 = 7.90\n",
        "\n",
        "\n",
        "# Create five more variables,\n",
        "# set them to ints that represent the quantity of each of the items above\n",
        "item_quant_1 = 2\n",
        "item_quant_2 = 1\n",
        "item_quant_3 = 3\n",
        "item_quant_4 = 1\n",
        "item_quant_5 = 1\n",
        "\n",
        "\n",
        "# Print to the console the name and price of each item defined above as follows:\n",
        "# 1 Coco Puffs = $8.95.\n",
        "# where:\n",
        "# 1 would be item_quant_1\n",
        "# Coco Puffs would be item_name_1\n",
        "# 8.95 would be item_name_2\n"
      ],
      "execution_count": 0,
      "outputs": []
    },
    {
      "cell_type": "markdown",
      "metadata": {
        "id": "tr50TO3xVrW1",
        "colab_type": "text"
      },
      "source": [
        "\n",
        "\n",
        "### P2.PY\n",
        "\n",
        "\n"
      ]
    },
    {
      "cell_type": "code",
      "metadata": {
        "id": "_6WnvYbpVrW2",
        "colab_type": "code",
        "outputId": "9734f03f-19dd-4545-8902-ea77b4554b1d",
        "colab": {
          "base_uri": "https://localhost:8080/",
          "height": 310
        }
      },
      "source": [
        "\"\"\"\n",
        "Shopping List Calculator II\n",
        "\"\"\"\n",
        "\n",
        "# Rewrite p1, but this time use the input() command to solicit user input for name, price, quantity. Here's how it works:\n",
        "\n",
        "item_name_1 = input('Name your first item: ') \n",
        "\t# ^ this will ask user to input value of item_name_1\n",
        "\n",
        "# use input() function and ask user to name items\n",
        "\n",
        "\n",
        "item_name_1 = input('Name your first item: ')\n",
        "item_name_2 = input('Name your second item: ')\n",
        "item_name_3 = input('Name your third item: ')\n",
        "item_name_4 = input('Name your fourth item: ')\n",
        "item_name_5 = input('Name your fifth item: ')\n",
        "\n",
        "# use input() function and ask user to name prices\n",
        "item_price_1 = input('Price for item 1: ')\n",
        "item_price_2 = input('Price for item 2: ')\n",
        "item_price_3 = input('Price for item 3: ')\n",
        "item_price_4 = input('Price for item 4: ')\n",
        "item_price_5 = input('Price for item 5: ')\n",
        "\n",
        "# use input() function and ask user to name quants\n",
        "item_quant_1 = input('Quantity for item 1: ')\n",
        "item_quant_2 = input('Quantity for item 2: ')\n",
        "item_quant_3 = input('Quantity for item 3: ')\n",
        "item_quant_4 = input('Quantity for item 4: ')\n",
        "item_quant_5 = input('Quantity for item 5: ')\n",
        "\n",
        "\n",
        "# Print to the console the name and price of each item defined above as follows:\n",
        "# 1 Coco Puffs = $8.95.\n",
        "# where:\n",
        "# 1 would be item_quant_1\n",
        "# Coco Puffs would be item_name_1\n",
        "# 8.95 would be item_name_2\n",
        "\n",
        "# JUST REMEMBER: now this will be defined by the user!!\n"
      ],
      "execution_count": 0,
      "outputs": [
        {
          "output_type": "stream",
          "text": [
            "Name your first item: Coco Puffs\n",
            "Name your first item: \n",
            "Name your second item: \n",
            "Name your third item: \n",
            "Name your fourth item: \n",
            "Name your fifth item: \n",
            "Price for item 1: 8.95\n",
            "Price for item 2: \n",
            "Price for item 3: \n",
            "Price for item 4: \n",
            "Price for item 5: \n",
            "Quantity for item 1: 1\n",
            "Quantity for item 2: \n",
            "Quantity for item 3: \n",
            "Quantity for item 4: \n",
            "Quantity for item 5: \n"
          ],
          "name": "stdout"
        }
      ]
    },
    {
      "cell_type": "markdown",
      "metadata": {
        "id": "vgZcfv-zVrW4",
        "colab_type": "text"
      },
      "source": [
        "\n"
      ]
    }
  ]
}