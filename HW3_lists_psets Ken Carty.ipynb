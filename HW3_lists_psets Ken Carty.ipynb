{
  "nbformat": 4,
  "nbformat_minor": 0,
  "metadata": {
    "colab": {
      "name": "HW3. lists_psets(edit).ipynb",
      "provenance": [],
      "collapsed_sections": [
        "m40a2IGVVI_-",
        "fyknlYbQVJAj"
      ],
      "include_colab_link": true
    },
    "kernelspec": {
      "name": "python3",
      "display_name": "Python 3"
    }
  },
  "cells": [
    {
      "cell_type": "markdown",
      "metadata": {
        "id": "view-in-github",
        "colab_type": "text"
      },
      "source": [
        "<a href=\"https://colab.research.google.com/github/kcarty2/PYH225_Homework/blob/master/HW3_lists_psets%20Ken%20Carty.ipynb\" target=\"_parent\"><img src=\"https://colab.research.google.com/assets/colab-badge.svg\" alt=\"Open In Colab\"/></a>"
      ]
    },
    {
      "cell_type": "markdown",
      "metadata": {
        "id": "Yr_KNJCvVI_l",
        "colab_type": "text"
      },
      "source": [
        "#  LISTS"
      ]
    },
    {
      "cell_type": "markdown",
      "metadata": {
        "id": "wnygsOhDVRof",
        "colab_type": "text"
      },
      "source": [
        "## LIST OPS"
      ]
    },
    {
      "cell_type": "markdown",
      "metadata": {
        "id": "3YuVvl6vVSvP",
        "colab_type": "text"
      },
      "source": [
        "### P1.PY"
      ]
    },
    {
      "cell_type": "code",
      "metadata": {
        "id": "Ir33rYgDVI_m",
        "colab_type": "code",
        "outputId": "394ad2df-1c58-432c-8a86-10a6fac07f19",
        "colab": {
          "base_uri": "https://localhost:8080/",
          "height": 136
        }
      },
      "source": [
        "\"\"\"\n",
        "Basic List Operations I\n",
        "\"\"\"\n",
        "\n",
        "# Create a list including these five animals - elephant, tiger, otter, orangutan, and penguin.\n",
        "anim = ['elephant', 'tiger', 'otter', 'orangutan', 'penguin']\n",
        "print(anim)\n",
        "\n",
        "# Print the 4th animal on the list.\n",
        "print(anim[3])\n",
        "\n",
        "# Add 'tortoise' to the beginning of the list.\n",
        "anim.insert(0, 'tortoise')\n",
        "print(anim)\n",
        "\n",
        "# Print the length of the list.\n",
        "print(len(anim))\n",
        "\n",
        "# Remove 'orangutan' from the list.\n",
        "anim.remove('orangutan')\n",
        "print(anim)\n",
        "\n",
        "# Sort the list alphabetically and print it out.\n",
        "sorted_anim_list = sorted(anim)\n",
        "print(f\"sorted version: {sorted_anim_list}\")\n",
        "print(anim)\n"
      ],
      "execution_count": 0,
      "outputs": [
        {
          "output_type": "stream",
          "text": [
            "['elephant', 'tiger', 'otter', 'orangutan', 'penguin']\n",
            "orangutan\n",
            "['tortoise', 'elephant', 'tiger', 'otter', 'orangutan', 'penguin']\n",
            "6\n",
            "['tortoise', 'elephant', 'tiger', 'otter', 'penguin']\n",
            "sorted version: ['elephant', 'otter', 'penguin', 'tiger', 'tortoise']\n",
            "['tortoise', 'elephant', 'tiger', 'otter', 'penguin']\n"
          ],
          "name": "stdout"
        }
      ]
    },
    {
      "cell_type": "markdown",
      "metadata": {
        "id": "iopPhVNUVI_p",
        "colab_type": "text"
      },
      "source": [
        "\n",
        "\n",
        "### P2.PY\n",
        "\n",
        "\n"
      ]
    },
    {
      "cell_type": "code",
      "metadata": {
        "colab_type": "code",
        "outputId": "c424a12d-3ae9-43cb-9c4b-22b99a3cbce5",
        "id": "Kl27OynoYGYw",
        "colab": {
          "base_uri": "https://localhost:8080/",
          "height": 102
        }
      },
      "source": [
        "\"\"\"\n",
        "Basic List Operations II\n",
        "\"\"\"\n",
        "\n",
        "# Declare a list with 5 names, and print out the length of that list.\n",
        "jspec = ['honda', 'toyota', 'nissan', 'subaru', 'mazda']\n",
        "\n",
        "# Print the 3rd name on the list\n",
        "print(jspec[2])\n",
        "\n",
        "\n",
        "# Delete the first name on the list\n",
        "jspec.remove('honda')\n",
        "print(jspec)\n",
        "\n",
        "\n",
        "# Re-add the name you deleted to the end of the list\n",
        "jspec.insert(4,'honda')\n",
        "print(jspec)\n",
        "\n",
        "# Replace the 2nd name on the list with a new name.\n",
        "jspec.remove('nissan')\n",
        "jspec.insert(1,'infiniti')\n",
        "print(jspec)\n",
        "\n",
        "# Add 3 new names to the end of the list.\n",
        "jspec.append('acura')    \n",
        "jspec.append('lexus')\n",
        "jspec.append('suzuki')\n",
        "#('acura', 'lexus', 'suzuki')\n",
        "print(jspec)\n",
        "\n"
      ],
      "execution_count": 0,
      "outputs": [
        {
          "output_type": "stream",
          "text": [
            "nissan\n",
            "['toyota', 'nissan', 'subaru', 'mazda']\n",
            "['toyota', 'nissan', 'subaru', 'mazda', 'honda']\n",
            "['toyota', 'infiniti', 'subaru', 'mazda', 'honda']\n",
            "['toyota', 'infiniti', 'subaru', 'mazda', 'honda', 'acura', 'lexus', 'suzuki']\n"
          ],
          "name": "stdout"
        }
      ]
    },
    {
      "cell_type": "markdown",
      "metadata": {
        "id": "lydOzGvFVI_6",
        "colab_type": "text"
      },
      "source": [
        "\n",
        "\n",
        "### P3.PY\n",
        "\n",
        "\n"
      ]
    },
    {
      "cell_type": "code",
      "metadata": {
        "id": "86gQFKLNVI_7",
        "colab_type": "code",
        "outputId": "7d66d53c-c409-498f-a4ab-1d27ce18d954",
        "colab": {
          "base_uri": "https://localhost:8080/",
          "height": 136
        }
      },
      "source": [
        "\"\"\"\n",
        "Math Operations\n",
        "\"\"\"\n",
        "\n",
        "# Save a list with the numbers `2`, `4`, `6`, and `8` into a variable called `numbers`. Use this variable for all the problems in this PSET.\n",
        "\n",
        "numbers = [2, 4, 6, 8]\n",
        "print(numbers)\n",
        "\n",
        "# Print the max of `numbers`.\n",
        "print(f'highest number: {max(numbers)}')\n",
        "\n",
        "\n",
        "# Pop the last element in `numbers` off; re-insert it at index `2` and print the resultant list.\n",
        "numbers.pop()\n",
        "print(numbers)\n",
        "numbers.insert(2, 8)\n",
        "print(numbers)\n",
        "\n",
        "#Pop the second number in `numbers` off.\n",
        "numbers.pop(1)\n",
        "print(numbers)\n",
        "\n",
        "# Append `3` to `numbers`.\n",
        "numbers.append(3)\n",
        "print(numbers)\n",
        "\n",
        "\n",
        "# Print out the average number.\n",
        "\n",
        "average_number = sum(numbers) / len(numbers)\n",
        "print(average_number)\n",
        "\n",
        "\n",
        "#print(f'average number is {average_number}!')\n",
        "\n",
        "\n"
      ],
      "execution_count": 5,
      "outputs": [
        {
          "output_type": "stream",
          "text": [
            "[2, 4, 6, 8]\n",
            "highest number: 8\n",
            "[2, 4, 6]\n",
            "[2, 4, 8, 6]\n",
            "[2, 8, 6]\n",
            "[2, 8, 6, 3]\n",
            "4.75\n"
          ],
          "name": "stdout"
        }
      ]
    },
    {
      "cell_type": "markdown",
      "metadata": {
        "id": "m40a2IGVVI_-",
        "colab_type": "text"
      },
      "source": [
        "\n",
        "\n",
        "## SORTING\n",
        "\n",
        "\n"
      ]
    },
    {
      "cell_type": "markdown",
      "metadata": {
        "id": "2XYhGsPjVUx8",
        "colab_type": "text"
      },
      "source": [
        "### P1.PY"
      ]
    },
    {
      "cell_type": "code",
      "metadata": {
        "id": "NRi8DF1eVI_-",
        "colab_type": "code",
        "outputId": "81812657-dce7-47a0-e326-0432f16ba9f2",
        "colab": {
          "base_uri": "https://localhost:8080/",
          "height": 71
        }
      },
      "source": [
        "\"\"\"\n",
        "Spotify Playlists - Sorting\n",
        "\"\"\"\n",
        "\n",
        "# You work for Spotify and are creating a feature for users to alphabetize their playlists by song title. Below is a list of titles from a sample playlist.\n",
        "\n",
        "playlist_titles = ['Tiny Dancer', 'At Last', 'Fortunate Son', \n",
        "'Hey Jude', 'Isn\\'t She Lovely', 'Just the Way You Are', 'I\\'m Yours',\n",
        "'Vienna', 'Roxanne', 'Dancing in the Moonlight']\n",
        "\n",
        "# Alphabetize these songs and print the result.\n",
        "\n",
        "playlist_titles.sort()\n",
        "print(playlist_titles)\n",
        "\n",
        "# Now do the reverse.\n",
        "playlist_titles.sort(reverse = True)\n",
        "print(playlist_titles)\n"
      ],
      "execution_count": 0,
      "outputs": [
        {
          "output_type": "stream",
          "text": [
            "['At Last', 'Dancing in the Moonlight', 'Fortunate Son', 'Hey Jude', \"I'm Yours\", \"Isn't She Lovely\", 'Just the Way You Are', 'Roxanne', 'Tiny Dancer', 'Vienna']\n",
            "['Vienna', 'Tiny Dancer', 'Roxanne', 'Just the Way You Are', \"Isn't She Lovely\", \"I'm Yours\", 'Hey Jude', 'Fortunate Son', 'Dancing in the Moonlight', 'At Last']\n"
          ],
          "name": "stdout"
        }
      ]
    },
    {
      "cell_type": "markdown",
      "metadata": {
        "id": "0xVs38QYVJAA",
        "colab_type": "text"
      },
      "source": [
        "\n",
        "\n",
        "### P2.PY\n",
        "\n",
        "\n"
      ]
    },
    {
      "cell_type": "code",
      "metadata": {
        "id": "VXtT3BB0VJAB",
        "colab_type": "code",
        "outputId": "6013a452-3aa1-4b2e-b3ea-0ff635ff4e87",
        "colab": {
          "base_uri": "https://localhost:8080/",
          "height": 34
        }
      },
      "source": [
        "\"\"\"\n",
        "Ordering Random Numbers\n",
        "\"\"\"\n",
        "\n",
        "# Create a list of 6 randomly generated numbers called numbers and sort it in descending order.\n",
        "numbers = [1, 3, 5, 7, 9, 11]\n",
        "descending_numbers = numbers.sort(reverse = True)\n",
        "print(numbers)\n",
        "\n",
        "\n"
      ],
      "execution_count": 0,
      "outputs": [
        {
          "output_type": "stream",
          "text": [
            "[11, 9, 7, 5, 3, 1]\n"
          ],
          "name": "stdout"
        }
      ]
    },
    {
      "cell_type": "markdown",
      "metadata": {
        "id": "cN7amwMkVJAR",
        "colab_type": "text"
      },
      "source": [
        "## LIST MANIPULATION\n"
      ]
    },
    {
      "cell_type": "markdown",
      "metadata": {
        "id": "ImDqbHx5VY4P",
        "colab_type": "text"
      },
      "source": [
        "### P1.PY"
      ]
    },
    {
      "cell_type": "code",
      "metadata": {
        "id": "z8OOTUg6VJAT",
        "colab_type": "code",
        "outputId": "48f0f19f-5b21-407b-bcdf-ec02778f2fb8",
        "colab": {
          "base_uri": "https://localhost:8080/",
          "height": 34
        }
      },
      "source": [
        "\"\"\"\n",
        "Phone Numbers\n",
        "\"\"\"\n",
        "\n",
        "# Parse this phone number so that a computer can process\n",
        "# it. (Hint: It can't include any non-numeric\n",
        "# characters.)\n",
        "\n",
        "cell = '1.192.168.0143'\n",
        "number_string = cell.split('.')\n",
        "ip = ''.join(number_string)\n",
        "print(f'This is iP address {ip}')"
      ],
      "execution_count": 9,
      "outputs": [
        {
          "output_type": "stream",
          "text": [
            "This is iP address 11921680143\n"
          ],
          "name": "stdout"
        }
      ]
    },
    {
      "cell_type": "markdown",
      "metadata": {
        "id": "HpUeu1YiVJAX",
        "colab_type": "text"
      },
      "source": [
        "\n",
        "\n",
        "### P2.PY\n",
        "\n",
        "\n"
      ]
    },
    {
      "cell_type": "code",
      "metadata": {
        "id": "O1ZpW64qVJAa",
        "colab_type": "code",
        "outputId": "624091e2-2700-4f9c-927a-654f66710997",
        "colab": {
          "base_uri": "https://localhost:8080/",
          "height": 102
        }
      },
      "source": [
        "\"\"\"\n",
        "Basic Math Ops\n",
        "\"\"\"\n",
        "\n",
        "# Given the list below, assign the correct values to the variables below.\n",
        "\t# my_sum = \n",
        "\t# my_min = \n",
        "\t# my_max = \n",
        "\t# my_range = \n",
        "\t# my_mean =\n",
        "\n",
        "import statistics\n",
        "nums = [2, 19, 20, 12, 6, 24, 8, 30, 28, 25]\n",
        "\n",
        "my_sum = sum(nums)\n",
        "print(f'my_sum = {my_sum}')\n",
        "my_min = min(nums)\n",
        "print(f'my_min = {my_min}')\n",
        "my_max = max(nums)\n",
        "print(f'my_max = {my_max}')\n",
        "my_range = ( max(nums) - min(nums) )\n",
        "print(f'my_range = {my_range}')\n",
        "my_mean = (my_sum) / len(nums)\n",
        "print(f'my_mean = {my_mean}')\n",
        "\n",
        "# Once you finish, print out each value **on its own line** in this format: \"my_median = \" etc.\n"
      ],
      "execution_count": 10,
      "outputs": [
        {
          "output_type": "stream",
          "text": [
            "my_sum = 174\n",
            "my_min = 2\n",
            "my_max = 30\n",
            "my_range = 28\n",
            "my_mean = 17.4\n"
          ],
          "name": "stdout"
        }
      ]
    },
    {
      "cell_type": "markdown",
      "metadata": {
        "id": "X3BMzIHyVJAd",
        "colab_type": "text"
      },
      "source": [
        "\n",
        "\n",
        "### P3.PY\n",
        "\n",
        "\n"
      ]
    },
    {
      "cell_type": "code",
      "metadata": {
        "id": "jz3ccPm3VJAe",
        "colab_type": "code",
        "outputId": "d83c1abe-e198-4f5f-e78e-c372d05fbd53",
        "colab": {
          "base_uri": "https://localhost:8080/",
          "height": 119
        }
      },
      "source": [
        "\"\"\"\n",
        "Merge Lists with Duplicates\n",
        "\"\"\"\n",
        "\n",
        "# Use the two lists below to solve this problem. Print out the result from each section as you go along.\n",
        "\n",
        "list1, list2 = [2, 8, 6], [10, 4, 12]\n",
        "print(f' list: {list1}') \n",
        "print(f' list2: {list2}')\n",
        "\n",
        "# A) Add another instance of each item in list1 to list1 again and assign the results to list3.\n",
        "larger_list = [3]\n",
        "list3 = [list1] + [list1]\n",
        "print(f' A: {list3}')\n",
        "\n",
        "\n",
        "# B) Combine the two given lists and assign them to list4.\n",
        "list4 = list1 + list2\n",
        "print(f' B: {list4}')\n",
        "\n",
        "\n",
        "# C) Replace the first 3 items in list 3 with the numbers 13, 16, 9.\n",
        "list3[0] = 13, 16, 9\n",
        "print(f' C: {list3}')\n",
        "\n",
        "# D) Merge list3 and list4 to create a list containing no duplicates and store this in list5.\n",
        "list5 = list3 + list4\n",
        "print(f' D: {list5}')\n",
        "\n",
        "\n",
        "# Take a look at your printed statements to see the evolution of your lists with each step of this problem.\n"
      ],
      "execution_count": 60,
      "outputs": [
        {
          "output_type": "stream",
          "text": [
            " list: [2, 8, 6]\n",
            " list2: [10, 4, 12]\n",
            " A: [[2, 8, 6], [2, 8, 6]]\n",
            " B: [2, 8, 6, 10, 4, 12]\n",
            " C: [(13, 16, 9), [2, 8, 6]]\n",
            " D: [(13, 16, 9), [2, 8, 6], 2, 8, 6, 10, 4, 12]\n"
          ],
          "name": "stdout"
        }
      ]
    },
    {
      "cell_type": "markdown",
      "metadata": {
        "id": "Qqtm5kHYVJAg",
        "colab_type": "text"
      },
      "source": [
        "\n",
        "\n",
        "### P4.PY\n",
        "\n",
        "\n"
      ]
    },
    {
      "cell_type": "code",
      "metadata": {
        "id": "wgF_gvjVVJAh",
        "colab_type": "code",
        "colab": {
          "base_uri": "https://localhost:8080/",
          "height": 187
        },
        "outputId": "93790a21-57e9-46ff-82f6-04bc1dfa6235"
      },
      "source": [
        "\"\"\"\n",
        "Cool Runnings!\n",
        "\"\"\"\n",
        "\n",
        "# Here's a quote from the movie 'Cool Runnings'. :)\n",
        "\n",
        "# Replace the word bobsled with \"YOLO\" and print the resultant list as 4 sentences (i.e. NOT a list), each on a new line.\n",
        "\n",
        "cool_runnings = [\n",
        "\t'Feel', 'the', 'rhythm.',\n",
        "\t'Feel', 'the', 'rhyme.',\n",
        "\t'Get', 'on', 'up.',\n",
        "\t'It\\'s', 'bobsled', 'time!'\n",
        "]\n",
        "\n",
        "cool_runnings_bobsled = ' '.join(cool_runnings)\n",
        "print(f'''\n",
        "Feel the rhythm.\\n\n",
        "Feel the rhyme.\\n\n",
        "Get on up.\\n\n",
        "It\\'s' bobsled time! \n",
        "''')"
      ],
      "execution_count": 65,
      "outputs": [
        {
          "output_type": "stream",
          "text": [
            "\n",
            "Feel the rhythm.\n",
            "\n",
            "Feel the rhyme.\n",
            "\n",
            "Get on up.\n",
            "\n",
            "It's' bobsled time! \n",
            "\n",
            "ERROR! Session/line number was not unique in database. History logging moved to new session 88\n"
          ],
          "name": "stdout"
        }
      ]
    },
    {
      "cell_type": "markdown",
      "metadata": {
        "id": "fyknlYbQVJAj",
        "colab_type": "text"
      },
      "source": [
        "## LIST CHALLENGES\n",
        "\n",
        "\n"
      ]
    },
    {
      "cell_type": "markdown",
      "metadata": {
        "id": "qYrO5tA-VdxK",
        "colab_type": "text"
      },
      "source": [
        "### P1.PY"
      ]
    },
    {
      "cell_type": "code",
      "metadata": {
        "id": "R1ouYtGvVJAq",
        "colab_type": "code",
        "colab": {}
      },
      "source": [
        "\"\"\"\n",
        "CHALLENGE - Extensions\n",
        "\"\"\"\n",
        "\n",
        "# ** Challenge** Add each element of the tuple1 to list1 *individually* and print the result.\n",
        "\n",
        "list1 = [6, 12, 9, 4, 10, 1]\n",
        "tuple1 = [(15,3), (6,2), (1, 8)]\n"
      ],
      "execution_count": 0,
      "outputs": []
    },
    {
      "cell_type": "markdown",
      "metadata": {
        "id": "X5MSdZzXVJAt",
        "colab_type": "text"
      },
      "source": [
        "\n",
        "\n",
        "### P2.PY\n",
        "\n",
        "\n"
      ]
    },
    {
      "cell_type": "code",
      "metadata": {
        "id": "xyu2RSZcVJAt",
        "colab_type": "code",
        "outputId": "47be029c-fefe-4633-d252-be8e13d20aa9",
        "colab": {
          "base_uri": "https://localhost:8080/",
          "height": 34
        }
      },
      "source": [
        "\"\"\"\n",
        "CHALLENGE - Core Statistics Calculations\n",
        "\"\"\"\n",
        "\n",
        "# Given the sample below, find the mean, median, mode, variance, and standard deviation of this sample. Print them out separately, but in the same format as before.\n",
        "\t# my_median = \n",
        "\t# my_mode = \n",
        "\t# my_variance = \n",
        "\t# my_sd = \n",
        "\n",
        "sample = [6, 19, 20, 12, 6, 24, 8, 30, 28, 25]\n",
        "\n",
        "sample.sort()\n",
        "print(sample)\n",
        "\n",
        "#def median(sample1):\n",
        "\n",
        "#sample.sort()\n",
        "#print(sample1)\n",
        "\n",
        "#a = float(len(sample))\n",
        "\n",
        " #   if a % 2 == 0:\n",
        "  #      b = float(list[len(list)/2])\n",
        "   #     c = float(list[(len(list)/2)-1])\n",
        "    #    d = (b + c) / 2.0\n",
        "      #  return float(d)\n",
        "\n",
        "   # if a % 2 > 0:\n",
        "    #    return float(list[len(list)/2])\n",
        "\n",
        "#myList = [1,8,10,11,5]\n",
        "#myList2 = [10,5,7,2,1,8]\n",
        "\n",
        "#print(median(myList))\n",
        "#print(median(myList2))\n",
        "#my_mode = \n",
        "#my_variance = \n",
        "#my_sd = \n",
        "\n",
        "# Once you finish, print out each value **on its own line** in this format: \"median = \" etc.\n"
      ],
      "execution_count": 66,
      "outputs": [
        {
          "output_type": "stream",
          "text": [
            "[6, 6, 8, 12, 19, 20, 24, 25, 28, 30]\n"
          ],
          "name": "stdout"
        }
      ]
    }
  ]
}