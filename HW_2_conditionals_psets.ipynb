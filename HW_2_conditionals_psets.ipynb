{
  "nbformat": 4,
  "nbformat_minor": 0,
  "metadata": {
    "colab": {
      "name": "HW 2: conditionals_psets.ipynb",
      "provenance": [],
      "collapsed_sections": [],
      "include_colab_link": true
    },
    "kernelspec": {
      "name": "python3",
      "display_name": "Python 3"
    }
  },
  "cells": [
    {
      "cell_type": "markdown",
      "metadata": {
        "id": "view-in-github",
        "colab_type": "text"
      },
      "source": [
        "<a href=\"https://colab.research.google.com/github/kcarty2/PYH225_Homework/blob/master/HW_2_conditionals_psets.ipynb\" target=\"_parent\"><img src=\"https://colab.research.google.com/assets/colab-badge.svg\" alt=\"Open In Colab\"/></a>"
      ]
    },
    {
      "cell_type": "markdown",
      "metadata": {
        "id": "FiL9pv11VtnR",
        "colab_type": "text"
      },
      "source": [
        "#  CONDITIONALS\n",
        "\n",
        "\n"
      ]
    },
    {
      "cell_type": "markdown",
      "metadata": {
        "id": "gijpYMCLV00L",
        "colab_type": "text"
      },
      "source": [
        "## WEATHER"
      ]
    },
    {
      "cell_type": "markdown",
      "metadata": {
        "id": "KL7ytXn4V2WB",
        "colab_type": "text"
      },
      "source": [
        "### P1.PY"
      ]
    },
    {
      "cell_type": "code",
      "metadata": {
        "id": "e32ChHBAVtnU",
        "colab_type": "code",
        "colab": {}
      },
      "source": [
        "\"\"\"\n",
        "Weather I - Do you need boots?\n",
        "\"\"\"\n",
        "\n",
        "# Use the values of the vars defined below to ouput the correct contextual answer to the questions below. (Note: The variables themselves ARE the questions.)\n",
        "\n",
        "# Example:\n",
        "## am_i_hungry = False\n",
        "## am_i_tired = True\n",
        "## do_i_need_to_stay_awake = False\n",
        "\n",
        "## should_i_drink_coffee_now = am_i_tired and do_i_need_to_stay_awake\n",
        "\n",
        "## ^^ This ^^ evaluates to False. If you're tired and don't need to stay awake, you don't need to drink coffee!\n",
        "\n",
        "\n",
        "is_it_raining = True\n",
        "is_it_snowing = False\n",
        "\n",
        "\n",
        "do_i_need_snow_boots = False\n",
        "can_i_skip_snow_boots = True\n",
        "do_i_need_rain_boots = True\n",
        "can_i_skip_rain_boots = False"
      ],
      "execution_count": 0,
      "outputs": []
    },
    {
      "cell_type": "markdown",
      "metadata": {
        "id": "t9cxGL-8VtnX",
        "colab_type": "text"
      },
      "source": [
        "\n",
        "\n",
        "### P2.PY\n",
        "\n",
        "\n"
      ]
    },
    {
      "cell_type": "code",
      "metadata": {
        "id": "y80DTzliVtnY",
        "colab_type": "code",
        "colab": {}
      },
      "source": [
        "\"\"\"\n",
        "Weather II - Precipitation\n",
        "\"\"\"\n",
        "\n",
        "# Repeat the same process as p1, using this new set of variables.\n",
        "\n",
        "sunny = True\n",
        "raining = True\n",
        "snowing = False\n",
        "\n",
        "is_it_sunny = True\n",
        "is_there_precipitation = True\n",
        "is_it_sleeting = False\n",
        "is_there_rainbow = False"
      ],
      "execution_count": 0,
      "outputs": []
    },
    {
      "cell_type": "markdown",
      "metadata": {
        "id": "777sx1WCVtno",
        "colab_type": "text"
      },
      "source": [
        "\n",
        "\n",
        "### P3.PY\n",
        "\n",
        "\n"
      ]
    },
    {
      "cell_type": "code",
      "metadata": {
        "id": "9dNGqX2wVtnp",
        "colab_type": "code",
        "colab": {}
      },
      "source": [
        "\"\"\"\n",
        "Weather III - Describe Conditions\n",
        "\"\"\"\n",
        "\n",
        "# Repeat the same process as p1, using this new set of variables.\n",
        "\n",
        "\n",
        "is_it_warm = True\n",
        "is_it_humid = True\n",
        "is_it_cold = False\n",
        "is_it_icy = False\n",
        "is_it_foggy = False\n",
        "is_it_windy = False\n",
        "is_it_overcast = True\n",
        "\n",
        "\n",
        "is_it_summer_weather = True\n",
        "is_rain_coming = True\n",
        "is_it_muggy = True\n",
        "do_i_need_coat = False\n",
        "\n"
      ],
      "execution_count": 0,
      "outputs": []
    },
    {
      "cell_type": "markdown",
      "metadata": {
        "id": "c70y61m1Vtn3",
        "colab_type": "text"
      },
      "source": [
        "## LOGIC\n",
        "\n",
        "\n"
      ]
    },
    {
      "cell_type": "markdown",
      "metadata": {
        "id": "6IGtJU8oV5a8",
        "colab_type": "text"
      },
      "source": [
        "### P1.PY"
      ]
    },
    {
      "cell_type": "code",
      "metadata": {
        "colab_type": "code",
        "outputId": "4f9f1a39-2d7c-4d23-9b15-e02249efa2ab",
        "id": "mt8NZ057rpDW",
        "colab": {
          "base_uri": "https://localhost:8080/",
          "height": 34
        }
      },
      "source": [
        "\"\"\"\n",
        "Calculate Grade\n",
        "\"\"\"\n",
        "\n",
        "grade = 15  # expect this to be a number\n",
        "\n",
        "# write a program that will print the \"letter\"\n",
        "# equivalent of the grade, for example:\n",
        "# when grade = 90 # -> expect A\n",
        "# when grade = 80 # -> expect B\n",
        "# when grade = 70 # -> expect C\n",
        "# when grade = 60 # -> expect D\n",
        "# when grade = 54 # -> expect F\n",
        "# when grade = -10 # -> expect Error\n",
        "# when grade = 10000 # -> expect Error\n",
        "# when grade = \"lol skool sucks\" # -> expect Error\n",
        "\n",
        "\n",
        "if grade < 0 or grade > 100:\n",
        "  print('Error, Something went wrong')  \n",
        "elif grade >= 90:\n",
        "  print('A')\n",
        "elif grade >= 80:\n",
        "  print('B')\n",
        "elif grade >= 70:\n",
        "  print('C')\n",
        "elif grade >= 60: \n",
        "  print('D')\n",
        "else:\n",
        "  print('F')"
      ],
      "execution_count": 0,
      "outputs": [
        {
          "output_type": "stream",
          "text": [
            "F\n"
          ],
          "name": "stdout"
        }
      ]
    },
    {
      "cell_type": "markdown",
      "metadata": {
        "id": "HLfJLQFKVtoK",
        "colab_type": "text"
      },
      "source": [
        "\n",
        "\n",
        "### P2.PY\n",
        "\n",
        "\n"
      ]
    },
    {
      "cell_type": "code",
      "metadata": {
        "id": "g3fT3CxqVtoO",
        "colab_type": "code",
        "outputId": "fd78586f-c5c5-4683-a09c-aa0674e638bb",
        "colab": {
          "base_uri": "https://localhost:8080/",
          "height": 51
        }
      },
      "source": [
        "\"\"\"\n",
        "Sign of Product\n",
        "\"\"\"\n",
        "\n",
        "# Given three numbers, a, b, c, without multiplying, determine the sign of their product.\n",
        "\n",
        "# EXAMPLE: a = -5, b = 6, c = -4, print 1\n",
        "\n",
        "# EXAMPLE: a = 5, b = 6, c = -4, print -1\n",
        "\n",
        "#1 = True\n",
        "#0 = False\n",
        "\n",
        "a = -5\n",
        "b = 6\n",
        "c = -4\n",
        "\n",
        "is_a_negative = a < 1\n",
        "is_b_negative = b < 0\n",
        "is_c_negative = c < 1\n",
        "\n",
        "summed = int(is_a_negative) + int(is_b_negative) + int(is_c_negative)\n",
        "if a == 0 or b == 0 or c == 0:\n",
        "  print(\"zero\")\n",
        "elif summed == 1 or summed == 3:\n",
        "  print(\"Negative\")\n",
        "else:\n",
        "  print(\"Positive\")\n",
        "\n",
        "print(a*b*c)\n"
      ],
      "execution_count": 0,
      "outputs": [
        {
          "output_type": "stream",
          "text": [
            "Positive\n",
            "120\n"
          ],
          "name": "stdout"
        }
      ]
    },
    {
      "cell_type": "code",
      "metadata": {
        "id": "H_wv9ZBJ9d5Z",
        "colab_type": "code",
        "outputId": "5b4ff96b-56a1-4bf0-d543-8277d315db07",
        "colab": {
          "base_uri": "https://localhost:8080/",
          "height": 51
        }
      },
      "source": [
        "a = 5\n",
        "b = 6\n",
        "c = -4\n",
        "\n",
        "is_a_negative = a < 1\n",
        "is_b_negative = b < 0\n",
        "is_c_negative = c < 1\n",
        "\n",
        "summed = int(is_a_negative) + int(is_b_negative) + int(is_c_negative)\n",
        "if a == 0 or b == 0 or c == 0:\n",
        "  print(\"zero\")\n",
        "elif summed == 1 or summed == 3:\n",
        "  print(\"Negative\")\n",
        "else:\n",
        "  print(\"Positive\")\n",
        "\n",
        "print(a*b*c)"
      ],
      "execution_count": 0,
      "outputs": [
        {
          "output_type": "stream",
          "text": [
            "Negative\n",
            "-120\n"
          ],
          "name": "stdout"
        }
      ]
    },
    {
      "cell_type": "code",
      "metadata": {
        "id": "-kaQf1oJBMH0",
        "colab_type": "code",
        "outputId": "07e0892b-ee89-44dd-a15a-996bb9e916ca",
        "colab": {
          "base_uri": "https://localhost:8080/",
          "height": 34
        }
      },
      "source": [
        "if a < 0 and b < 0 and c < 0:\n",
        "  print('negative')\n",
        "elif a < 0 and b < 0 and c > 0:\n",
        "  print('positive')\n",
        "elif a < 0 and b >0 and c < 0:\n",
        "  print('positive')\n",
        "elif a < 0 and b > 0 and c > 0:\n",
        "  print('negative')"
      ],
      "execution_count": 0,
      "outputs": [
        {
          "output_type": "stream",
          "text": [
            "positive\n"
          ],
          "name": "stdout"
        }
      ]
    },
    {
      "cell_type": "markdown",
      "metadata": {
        "id": "eUuhYKriVtoS",
        "colab_type": "text"
      },
      "source": [
        "\n",
        "\n",
        "### P3.PY\n",
        "\n",
        "\n"
      ]
    },
    {
      "cell_type": "code",
      "metadata": {
        "id": "gtAMAAaYVtoT",
        "colab_type": "code",
        "colab": {}
      },
      "source": [
        "\"\"\"\n",
        "Any Uppercase\n",
        "\"\"\"\n",
        "\n",
        "# Given a string str, determine if there are any uppercase values in it. Use only conditional statements and string methods (you may have to look some up!)\n",
        "\n",
        "# EXAMPLE: str = \"teSt\", print True\n",
        "\n",
        "str_ = \"teSt\" # str_.lower() = \"test\"\n",
        "# str_ = \"abc\"\n",
        "# str_.lower() = \"abc\""
      ],
      "execution_count": 0,
      "outputs": []
    },
    {
      "cell_type": "code",
      "metadata": {
        "id": "Q9lzGuZQQsSQ",
        "colab_type": "code",
        "outputId": "46f508fb-fcb0-4061-bdd9-fbfb5ba4d102",
        "colab": {
          "base_uri": "https://localhost:8080/",
          "height": 34
        }
      },
      "source": [
        "print( str_ != str_.lower() )"
      ],
      "execution_count": 0,
      "outputs": [
        {
          "output_type": "stream",
          "text": [
            "True\n"
          ],
          "name": "stdout"
        }
      ]
    },
    {
      "cell_type": "markdown",
      "metadata": {
        "id": "wG8CE6QTVtoW",
        "colab_type": "text"
      },
      "source": [
        "\n",
        "\n",
        "> Indented block\n",
        "\n",
        "\n",
        "\n",
        "### P4.PY\n",
        "\n",
        "\n"
      ]
    },
    {
      "cell_type": "code",
      "metadata": {
        "id": "UoTwwK5sX001",
        "colab_type": "code",
        "colab": {}
      },
      "source": [
        "\"\"\"\n",
        "Empty Strings\n",
        "\"\"\"\n",
        "\n",
        "# Given any empty string, of the form:\n",
        "\n",
        "# ''\n",
        "# ' '\n",
        "# '  '\n",
        "# any other num of spaces...\n",
        "\n",
        "# determine if the str is empty or not (print True or False). Hint: You'll need to look up how to remove trailing spaces from a string.\n",
        "\n",
        "str_ = \"     \"\n",
        "print(True)\n",
        "str_ = ''\n",
        "print(True)\n"
      ],
      "execution_count": 0,
      "outputs": []
    },
    {
      "cell_type": "markdown",
      "metadata": {
        "id": "WlgQdALoVtof",
        "colab_type": "text"
      },
      "source": [
        "\n",
        "\n",
        "### P5.PY\n",
        "\n",
        "\n"
      ]
    },
    {
      "cell_type": "code",
      "metadata": {
        "id": "7_k9rebsVtog",
        "colab_type": "code",
        "colab": {}
      },
      "source": [
        "\"\"\"\n",
        "truthTableEvaluator\n",
        "\"\"\"\n",
        "\n",
        "# Given the following inputs:\n",
        "\n",
        "\n",
        "# P = # True or False\n",
        "# Q = # True or False\n",
        "# op = # '^' (logical AND, conjunction)\n",
        "#      # OR, 'v' (logical OR, disjunction)\n",
        "#      # OR, '->' (logical conditional, implication)\n",
        "#      # OR, '<->' (biconditional)\n",
        "# determine the correct outcome.\n",
        "\n",
        "# https://medium.com/i-math/intro-to-truth-tables-boolean-algebra-73b331dd9b94\n"
      ],
      "execution_count": 0,
      "outputs": []
    },
    {
      "cell_type": "markdown",
      "metadata": {
        "id": "zayFQdU7Vto2",
        "colab_type": "text"
      },
      "source": [
        "## RANDOM NUMBERS\n",
        "\n",
        "\n",
        "\n",
        "\n"
      ]
    },
    {
      "cell_type": "markdown",
      "metadata": {
        "id": "gtAK4fQAV9BC",
        "colab_type": "text"
      },
      "source": [
        "### P1.PY"
      ]
    },
    {
      "cell_type": "code",
      "metadata": {
        "id": "_dlFvP4QVto3",
        "colab_type": "code",
        "colab": {
          "base_uri": "https://localhost:8080/",
          "height": 34
        },
        "outputId": "19424092-15d5-45d9-d02e-3ae1e923c12a"
      },
      "source": [
        "\"\"\"\n",
        "Generate Traffic Light\n",
        "\"\"\"\n",
        "\n",
        "# import python randomint package\n",
        "import random\n",
        "\n",
        "# generates a random number from 1 to 3\n",
        "randomn = random.randint(1,3)\n",
        "\n",
        "# if 1, print 'red'\n",
        "# if 2, print 'green',\n",
        "# if 3, print 'yellow'\n",
        "\n",
        "if randomn == 1:\n",
        "  print('red')\n",
        "elif randomn == 2:\n",
        "  print('green')\n",
        "elif randomn == 3:\n",
        "  print('yellow')\n",
        "else:\n",
        "  print('invalid: Try again!')\n"
      ],
      "execution_count": 151,
      "outputs": [
        {
          "output_type": "stream",
          "text": [
            "green\n"
          ],
          "name": "stdout"
        }
      ]
    },
    {
      "cell_type": "markdown",
      "metadata": {
        "id": "nO0LSd8SVto5",
        "colab_type": "text"
      },
      "source": [
        "\n",
        "\n",
        "### P2.PY\n",
        "\n",
        "\n"
      ]
    },
    {
      "cell_type": "code",
      "metadata": {
        "id": "Dp5jFc2fVtpF",
        "colab_type": "code",
        "colab": {
          "base_uri": "https://localhost:8080/",
          "height": 1000
        },
        "outputId": "d3ec3f34-8a83-47c4-b24f-6b7757547a84"
      },
      "source": [
        "\"\"\"\n",
        "Generate Phone Number w/Area Code\n",
        "\"\"\"\n",
        "\n",
        "# Generate a random phone number using these SPECS:\n",
        "### Should be a string in this format: 1-718-786-2825\n",
        "\n",
        "from random import randint\n",
        "def random_with_N_digits(n):\n",
        "    range_start = 10**(n-1)\n",
        "    range_end = (10**n)-1\n",
        "    return randint(range_start, range_end)\n",
        "\n",
        "for mciNumbers in range(0,100):\n",
        "\tprint('1718', random_with_N_digits(7))\n",
        "\n",
        "### Must randomly choose one of these area codes: 646, 718, 212\n",
        "from random import randint\n",
        "def random_with_N_digits(n):\n",
        "    range_start = 10**(n-1)\n",
        "    range_end = (10**n)-1\n",
        "    return randint(range_start, range_end)\n",
        "\n",
        "for mciNumbers in range(0,100):\n",
        "\tprint('1718' or '1646' or '1212', random_with_N_digits(7))\n",
        " "
      ],
      "execution_count": 171,
      "outputs": [
        {
          "output_type": "stream",
          "text": [
            "1718 8662609\n",
            "1718 1102846\n",
            "1718 7252604\n",
            "1718 3597917\n",
            "1718 9855845\n",
            "1718 7191650\n",
            "1718 7155900\n",
            "1718 3864472\n",
            "1718 1172470\n",
            "1718 1267099\n",
            "1718 1373362\n",
            "1718 2558509\n",
            "1718 2547375\n",
            "1718 6500934\n",
            "1718 4616989\n",
            "1718 1736795\n",
            "1718 1446692\n",
            "1718 3304139\n",
            "1718 9566434\n",
            "1718 9894835\n",
            "1718 1172435\n",
            "1718 1163687\n",
            "1718 8636686\n",
            "1718 2905862\n",
            "1718 1399399\n",
            "1718 3528771\n",
            "1718 3325464\n",
            "1718 8910838\n",
            "1718 7829214\n",
            "1718 2653030\n",
            "1718 6377571\n",
            "1718 9681225\n",
            "1718 5500737\n",
            "1718 5377512\n",
            "1718 2725926\n",
            "1718 4969998\n",
            "1718 2651289\n",
            "1718 9138323\n",
            "1718 7814968\n",
            "1718 5386423\n",
            "1718 8095288\n",
            "1718 2010756\n",
            "1718 9960762\n",
            "1718 6353800\n",
            "1718 2546714\n",
            "1718 1456794\n",
            "1718 2349566\n",
            "1718 6935015\n",
            "1718 4319499\n",
            "1718 4526884\n",
            "1718 3211592\n",
            "1718 3267255\n",
            "1718 2644021\n",
            "1718 7064234\n",
            "1718 3071377\n",
            "1718 3954625\n",
            "1718 2615339\n",
            "1718 3269981\n",
            "1718 5408108\n",
            "1718 9158012\n",
            "1718 7126134\n",
            "1718 5458526\n",
            "1718 7761796\n",
            "1718 9329368\n",
            "1718 7333880\n",
            "1718 5603000\n",
            "1718 7405713\n",
            "1718 7246550\n",
            "1718 9416454\n",
            "1718 6728220\n",
            "1718 8383924\n",
            "1718 2991855\n",
            "1718 3772515\n",
            "1718 2506641\n",
            "1718 6423685\n",
            "1718 4361092\n",
            "1718 7423939\n",
            "1718 4137870\n",
            "1718 6896048\n",
            "1718 1430434\n",
            "1718 8116892\n",
            "1718 6135822\n",
            "1718 3478476\n",
            "1718 1643081\n",
            "1718 1341133\n",
            "1718 6387011\n",
            "1718 5135433\n",
            "1718 9502227\n",
            "1718 2269852\n",
            "1718 7461553\n",
            "1718 5391807\n",
            "1718 9092019\n",
            "1718 4821949\n",
            "1718 8507122\n",
            "1718 1127033\n",
            "1718 3948597\n",
            "1718 8736166\n",
            "1718 7754597\n",
            "1718 6416505\n",
            "1718 4893263\n",
            "1718 3898642\n",
            "1718 9467751\n",
            "1718 1178337\n",
            "1718 7742422\n",
            "1718 5245791\n",
            "1718 2558369\n",
            "1718 2488236\n",
            "1718 4264834\n",
            "1718 1124548\n",
            "1718 9184370\n",
            "1718 1649996\n",
            "1718 4016779\n",
            "1718 4542818\n",
            "1718 6691508\n",
            "1718 2438895\n",
            "1718 4094806\n",
            "1718 7224089\n",
            "1718 3774159\n",
            "1718 4171898\n",
            "1718 3860459\n",
            "1718 3552367\n",
            "1718 6224380\n",
            "1718 5252465\n",
            "1718 2732732\n",
            "1718 8864600\n",
            "1718 7174537\n",
            "1718 7942960\n",
            "1718 7705344\n",
            "1718 5312347\n",
            "1718 3745246\n",
            "1718 2560474\n",
            "1718 8189541\n",
            "1718 4729044\n",
            "1718 5290547\n",
            "1718 3781683\n",
            "1718 5089602\n",
            "1718 5929422\n",
            "1718 3184434\n",
            "1718 3716883\n",
            "1718 2697481\n",
            "1718 8934445\n",
            "1718 7311661\n",
            "1718 8857783\n",
            "1718 7773719\n",
            "1718 2370267\n",
            "1718 5864974\n",
            "1718 3728823\n",
            "1718 2343218\n",
            "1718 7669736\n",
            "1718 5150346\n",
            "1718 3545393\n",
            "1718 6307816\n",
            "1718 2676425\n",
            "1718 3774208\n",
            "1718 8649094\n",
            "1718 3864805\n",
            "1718 6802123\n",
            "1718 3338412\n",
            "1718 5412946\n",
            "1718 9347404\n",
            "1718 4613884\n",
            "1718 1854978\n",
            "1718 4404688\n",
            "1718 6450507\n",
            "1718 1531568\n",
            "1718 3683278\n",
            "1718 8250677\n",
            "1718 9589814\n",
            "1718 3867431\n",
            "1718 4145693\n",
            "1718 6259817\n",
            "1718 2186011\n",
            "1718 1068578\n",
            "1718 7694148\n",
            "1718 6466245\n",
            "1718 3424956\n",
            "1718 7037410\n",
            "1718 2192632\n",
            "1718 9728944\n",
            "1718 4621663\n",
            "1718 4725241\n",
            "1718 5548468\n",
            "1718 6548031\n",
            "1718 8822757\n",
            "1718 5092229\n",
            "1718 2503780\n",
            "1718 7268290\n",
            "1718 2377950\n",
            "1718 1974830\n",
            "1718 6370685\n",
            "1718 8767866\n",
            "1718 9639095\n",
            "1718 7884713\n",
            "1718 5166360\n",
            "1718 5802930\n",
            "1718 8363845\n",
            "1718 9467080\n",
            "1718 7594661\n",
            "1718 6134338\n",
            "1718 6631992\n"
          ],
          "name": "stdout"
        }
      ]
    },
    {
      "cell_type": "code",
      "metadata": {
        "id": "mrZHkffVD65Q",
        "colab_type": "code",
        "colab": {}
      },
      "source": [
        ""
      ],
      "execution_count": 0,
      "outputs": []
    },
    {
      "cell_type": "markdown",
      "metadata": {
        "id": "gRweE3nDVtpK",
        "colab_type": "text"
      },
      "source": [
        "## RPS\n",
        "\n",
        "\n"
      ]
    },
    {
      "cell_type": "markdown",
      "metadata": {
        "id": "IFUwrDumV_Vn",
        "colab_type": "text"
      },
      "source": [
        "### P1.PY"
      ]
    },
    {
      "cell_type": "code",
      "metadata": {
        "id": "sYTmAYzDVtpL",
        "colab_type": "code",
        "colab": {}
      },
      "source": [
        "\"\"\"\n",
        "Play RPS\n",
        "\"\"\"\n",
        "\n",
        "p1 = 'r'  # or 'p' or 's'\n",
        "p2 = 'r'  # or 'p' or 's'\n",
        "\n",
        "# Given a p1 and p2\n",
        "# print 1 if p1 has won\n",
        "# print 2 if p2 has won\n",
        "# print 0 if tie\n",
        "# print -1 if invalid input\n",
        "# expects both p1 and p2 inputs to be either\n",
        "# \"r\", \"p\", or \"s\"\n",
        "\n",
        "\n",
        "import sys\n",
        "\n",
        "user1 = input(\"What's your name?\")\n",
        "user2 = input(\"And your name?\")\n",
        "user1_answer = input(\"%s, do yo want to choose rock, paper or scissors?\" % user1)\n",
        "user2_answer = input(\"%s, do you want to choose rock, paper or scissors?\" % user2)\n",
        "\n",
        "def compare(u1, u2):\n",
        "    if u1 == u2:\n",
        "        return(\"It's a tie!\")\n",
        "    elif u1 == 'rock':\n",
        "        if u2 == 'scissors':\n",
        "            return(\"Rock wins!\")\n",
        "        else:\n",
        "            return(\"Paper wins!\")\n",
        "    elif u1 == 'scissors':\n",
        "        if u2 == 'paper':\n",
        "            return(\"Scissors win!\")\n",
        "        else:\n",
        "            return(\"Rock wins!\")\n",
        "    elif u1 == 'paper':\n",
        "        if u2 == 'rock':\n",
        "            return(\"Paper wins!\")\n",
        "        else:\n",
        "            return(\"Scissors win!\")\n",
        "    else:\n",
        "        return(\"Invalid input! You have not entered rock, paper or scissors, try again.\")\n",
        "        sys.exit()\n",
        "\n",
        "print(compare(user1_answer, user2_answer))"
      ],
      "execution_count": 0,
      "outputs": []
    },
    {
      "cell_type": "markdown",
      "metadata": {
        "id": "fp77AykMVtpN",
        "colab_type": "text"
      },
      "source": [
        "\n",
        "\n",
        "### P2.PY\n",
        "\n",
        "\n"
      ]
    },
    {
      "cell_type": "code",
      "metadata": {
        "id": "mKMaxGH8VtpO",
        "colab_type": "code",
        "colab": {
          "base_uri": "https://localhost:8080/",
          "height": 232
        },
        "outputId": "e7913542-b033-4208-835e-492587854179"
      },
      "source": [
        "\"\"\"\n",
        "Play RPS w/Computer\n",
        "\"\"\"\n",
        "\n",
        "\n",
        "import random\n",
        "p1 = random.int(1, 3)  # randomly choose 'r' or 'p' or 's'\n",
        "p2 = random.int(1, 3)  # randomly choose 'r' or 'p' or 's'\n",
        "\n",
        "# Given a p1 and p2\n",
        "# print 1 if p1 has won\n",
        "# print 2 if p2 has won\n",
        "# print 0 if tie\n",
        "# print -1 if invalid input\n",
        "# expects both p1 and p2 inputs to be either\n",
        "# \"r\", \"p\", or \"s\"\n"
      ],
      "execution_count": 4,
      "outputs": [
        {
          "output_type": "error",
          "ename": "AttributeError",
          "evalue": "ignored",
          "traceback": [
            "\u001b[0;31m---------------------------------------------------------------------------\u001b[0m",
            "\u001b[0;31mAttributeError\u001b[0m                            Traceback (most recent call last)",
            "\u001b[0;32m<ipython-input-4-a5296d3486ee>\u001b[0m in \u001b[0;36m<module>\u001b[0;34m()\u001b[0m\n\u001b[1;32m      5\u001b[0m \u001b[0;34m\u001b[0m\u001b[0m\n\u001b[1;32m      6\u001b[0m \u001b[0;32mimport\u001b[0m \u001b[0mrandom\u001b[0m\u001b[0;34m\u001b[0m\u001b[0;34m\u001b[0m\u001b[0m\n\u001b[0;32m----> 7\u001b[0;31m \u001b[0mp1\u001b[0m \u001b[0;34m=\u001b[0m \u001b[0mrandom\u001b[0m\u001b[0;34m.\u001b[0m\u001b[0mint\u001b[0m\u001b[0;34m(\u001b[0m\u001b[0;36m1\u001b[0m\u001b[0;34m,\u001b[0m \u001b[0;36m3\u001b[0m\u001b[0;34m)\u001b[0m  \u001b[0;31m# randomly choose 'r' or 'p' or 's'\u001b[0m\u001b[0;34m\u001b[0m\u001b[0;34m\u001b[0m\u001b[0m\n\u001b[0m\u001b[1;32m      8\u001b[0m \u001b[0mp2\u001b[0m \u001b[0;34m=\u001b[0m \u001b[0mrandom\u001b[0m\u001b[0;34m.\u001b[0m\u001b[0mint\u001b[0m\u001b[0;34m(\u001b[0m\u001b[0;36m1\u001b[0m\u001b[0;34m,\u001b[0m \u001b[0;36m3\u001b[0m\u001b[0;34m)\u001b[0m  \u001b[0;31m# randomly choose 'r' or 'p' or 's'\u001b[0m\u001b[0;34m\u001b[0m\u001b[0;34m\u001b[0m\u001b[0m\n\u001b[1;32m      9\u001b[0m \u001b[0;34m\u001b[0m\u001b[0m\n",
            "\u001b[0;31mAttributeError\u001b[0m: module 'random' has no attribute 'int'"
          ]
        }
      ]
    },
    {
      "cell_type": "markdown",
      "metadata": {
        "id": "INgOFvdoVtpU",
        "colab_type": "text"
      },
      "source": [
        "\n",
        "\n",
        "### P3.PY\n",
        "\n",
        "\n"
      ]
    },
    {
      "cell_type": "code",
      "metadata": {
        "id": "vhAAHjMSVtpV",
        "colab_type": "code",
        "colab": {}
      },
      "source": [
        "\"\"\"\n",
        "Play RPS w/Input\n",
        "\"\"\"\n",
        "\n",
        "p1 = None  # from user input\n",
        "p2 = None  # from user input\n",
        "\n",
        "# Given a p1 and p2\n",
        "# print 1 if p1 has won\n",
        "# print 2 if p2 has won\n",
        "# print 0 if tie\n",
        "# print -1 if invalid input\n",
        "# expects both p1 and p2 inputs to be either\n",
        "# \"r\", \"p\", or \"s\"\n",
        "\n",
        "\n",
        "p1 = input(\"Player 1 input (r, p or s): \")  # from user input\n",
        "if p1 not in [\"r\", \"p\", \"s\"]:\n",
        "  raise Exception(\"P1 input incorrect format\")\n",
        "\n",
        "p2 = input(\"Player 1 input (r, p or s): \")  # from user input\n",
        "if p2 not in [\"r\", \"p\", \"s\"]:\n",
        "  raise Exception(\"P2 input incorrect format\")\n",
        "\n",
        "print(\"formats are correct!\")\n",
        "\n",
        "\n",
        "\n",
        "\n"
      ],
      "execution_count": 0,
      "outputs": []
    },
    {
      "cell_type": "markdown",
      "metadata": {
        "id": "SUqNu57OVtpY",
        "colab_type": "text"
      },
      "source": [
        "\n",
        "\n",
        "### P4.PY\n",
        "\n",
        "\n"
      ]
    },
    {
      "cell_type": "code",
      "metadata": {
        "id": "Vmlr5AqSVtpY",
        "colab_type": "code",
        "colab": {
          "base_uri": "https://localhost:8080/",
          "height": 385
        },
        "outputId": "7f7d6d9a-f2fc-4852-9e0b-fb928e031ee6"
      },
      "source": [
        "\"\"\"\n",
        "Play RPS against Computer\n",
        "\"\"\"\n",
        "\n",
        "p1 = None  # from user input - we still want validation from above!\n",
        "p2 = None  # randomly generated against computer\n",
        "\n",
        "# Given a p1 and p2\n",
        "# print 1 if p1 has won\n",
        "# print 2 if p2 has won\n",
        "# print 0 if tie\n",
        "# print -1 if invalid input\n",
        "# expects both p1 and p2 inputs to be either\n",
        "# \"r\", \"p\", or \"s\"\n",
        "\n",
        "\n",
        "while True: \n",
        "    print(\"Enter choice \\n 1. Rock \\n 2. paper \\n 3. scissor \\n\") \n",
        "      \n",
        "    # take the input from user \n",
        "    choice = int(input(\"User turn: \")) \n",
        "  \n",
        "      \n",
        "    # looping until user enter invalid input \n",
        "    while choice > 3 or choice < 1: \n",
        "        choice = int(input(\"enter valid input: \")) \n",
        "          \n",
        "  \n",
        "    # initialize value of choice_name variable \n",
        "    # corresponding to the choice value \n",
        "    if choice == 1: \n",
        "        choice_name = 'Rock'\n",
        "    elif choice == 2: \n",
        "        choice_name = 'paper'\n",
        "    else: \n",
        "        choice_name = 'scissor'\n",
        "          \n",
        "    # print user choice  \n",
        "    print(\"user choice is: \" + choice_name) \n",
        "    print(\"\\nNow its computer turn.......\") \n",
        "  \n",
        "    # Computer chooses randomly any number  \n",
        "    # among 1 , 2 and 3. Using randint method \n",
        "    # of random module \n",
        "    comp_choice = random.randint(1, 3) \n",
        "      \n",
        "    # looping until comp_choice value  \n",
        "    # is equal to the choice value \n",
        "    while comp_choice == choice: \n",
        "        comp_choice = random.randint(1, 3) \n",
        "  \n",
        "    # initialize value of comp_choice_name  \n",
        "    # variable corresponding to the choice value \n",
        "    if comp_choice == 1: \n",
        "        comp_choice_name = 'Rock'\n",
        "    elif comp_choice == 2: \n",
        "        comp_choice_name = 'paper'\n",
        "    else: \n",
        "        comp_choice_name = 'scissor'\n",
        "          \n",
        "    print(\"Computer choice is: \" + comp_choice_name) \n",
        "  \n",
        "    print(choice_name + \" V/s \" + comp_choice_name) \n",
        "  \n",
        "    # condition for winning \n",
        "    if((choice == 1 and comp_choice == 2) or\n",
        "      (choice == 2 and comp_choice ==1 )): \n",
        "        print(\"paper wins => \", end = \"\") \n",
        "        result = \"paper\"\n",
        "          \n",
        "    elif((choice == 1 and comp_choice == 3) or\n",
        "        (choice == 3 and comp_choice == 1)): \n",
        "        print(\"Rock wins =>\", end = \"\") \n",
        "        result = \"Rock\"\n",
        "    else: \n",
        "        print(\"scissor wins =>\", end = \"\") \n",
        "        result = \"scissor\"\n",
        "  \n",
        "    # Printing either user or computer wins \n",
        "    if result == choice_name: \n",
        "        print(\"<== User wins ==>\") \n",
        "    else: \n",
        "        print(\"<== Computer wins ==>\") \n",
        "          \n",
        "    print(\"Do you want to play again? (Y/N)\") \n",
        "    ans = input() \n",
        "  \n",
        "  \n",
        "    # if user input n or N then condition is True \n",
        "    if ans == 'n' or ans == 'N': \n",
        "        break\n",
        "      \n",
        "# after coming out of the while loop \n",
        "# we print thanks for playing \n",
        "print(\"\\nThanks for playing\") "
      ],
      "execution_count": 3,
      "outputs": [
        {
          "output_type": "stream",
          "text": [
            "Enter choice \n",
            " 1. Rock \n",
            " 2. paper \n",
            " 3. scissor \n",
            "\n",
            "User turn: 2\n",
            "user choice is: paper\n",
            "\n",
            "Now its computer turn.......\n"
          ],
          "name": "stdout"
        },
        {
          "output_type": "error",
          "ename": "NameError",
          "evalue": "ignored",
          "traceback": [
            "\u001b[0;31m---------------------------------------------------------------------------\u001b[0m",
            "\u001b[0;31mNameError\u001b[0m                                 Traceback (most recent call last)",
            "\u001b[0;32m<ipython-input-3-be57369ede2b>\u001b[0m in \u001b[0;36m<module>\u001b[0;34m()\u001b[0m\n\u001b[1;32m     43\u001b[0m     \u001b[0;31m# among 1 , 2 and 3. Using randint method\u001b[0m\u001b[0;34m\u001b[0m\u001b[0;34m\u001b[0m\u001b[0;34m\u001b[0m\u001b[0m\n\u001b[1;32m     44\u001b[0m     \u001b[0;31m# of random module\u001b[0m\u001b[0;34m\u001b[0m\u001b[0;34m\u001b[0m\u001b[0;34m\u001b[0m\u001b[0m\n\u001b[0;32m---> 45\u001b[0;31m     \u001b[0mcomp_choice\u001b[0m \u001b[0;34m=\u001b[0m \u001b[0mrandom\u001b[0m\u001b[0;34m.\u001b[0m\u001b[0mrandint\u001b[0m\u001b[0;34m(\u001b[0m\u001b[0;36m1\u001b[0m\u001b[0;34m,\u001b[0m \u001b[0;36m3\u001b[0m\u001b[0;34m)\u001b[0m\u001b[0;34m\u001b[0m\u001b[0;34m\u001b[0m\u001b[0m\n\u001b[0m\u001b[1;32m     46\u001b[0m \u001b[0;34m\u001b[0m\u001b[0m\n\u001b[1;32m     47\u001b[0m     \u001b[0;31m# looping until comp_choice value\u001b[0m\u001b[0;34m\u001b[0m\u001b[0;34m\u001b[0m\u001b[0;34m\u001b[0m\u001b[0m\n",
            "\u001b[0;31mNameError\u001b[0m: name 'random' is not defined"
          ]
        }
      ]
    },
    {
      "cell_type": "markdown",
      "metadata": {
        "id": "F_7aaMtoVtpt",
        "colab_type": "text"
      },
      "source": [
        "\n",
        "\n",
        "### P5.PY\n",
        "\n",
        "\n"
      ]
    },
    {
      "cell_type": "code",
      "metadata": {
        "id": "U24EGu3VVtpu",
        "colab_type": "code",
        "colab": {}
      },
      "source": [
        "\"\"\"\n",
        "Play RPS w/Bad Input\n",
        "\"\"\"\n",
        "\n",
        "p1 = None  # can be invalid!\n",
        "p2 = None  # can be invalid!\n",
        "\n",
        "\"\"\"\n",
        "This is the same as the original RPS problem, \n",
        "except that cannot expect the input to be valid. \n",
        "While we *want* `r` or `p` or `s`, there is a possibility \n",
        "that input can be anything like...\n",
        "\n",
        "* `ROCK` (all caps)\n",
        "* `R` (`r` but capitalized)\n",
        "* `PAPrrRR` (incorrectly spelled, upper/lowercased)\n",
        "\n",
        "Implement conditional statements that will sanitize the \n",
        "user input or let user know that input is invalid.\n",
        "\"\"\"\n"
      ],
      "execution_count": 0,
      "outputs": []
    }
  ]
}