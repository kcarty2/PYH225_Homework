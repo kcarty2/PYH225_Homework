{
  "nbformat": 4,
  "nbformat_minor": 0,
  "metadata": {
    "colab": {
      "name": "HW taqueria_pset1.ipynb",
      "provenance": [],
      "collapsed_sections": [
        "JTIlk4jjUskq"
      ],
      "include_colab_link": true
    },
    "kernelspec": {
      "name": "python3",
      "display_name": "Python 3"
    }
  },
  "cells": [
    {
      "cell_type": "markdown",
      "metadata": {
        "id": "view-in-github",
        "colab_type": "text"
      },
      "source": [
        "<a href=\"https://colab.research.google.com/github/kcarty2/PYH225_Homework/blob/master/HW_taqueria_pset1.ipynb\" target=\"_parent\"><img src=\"https://colab.research.google.com/assets/colab-badge.svg\" alt=\"Open In Colab\"/></a>"
      ]
    },
    {
      "cell_type": "markdown",
      "metadata": {
        "id": "VvrGNQdkQ_Ul",
        "colab_type": "text"
      },
      "source": [
        "# Taqqui's Taqueria"
      ]
    },
    {
      "cell_type": "markdown",
      "metadata": {
        "id": "wcMHfFfYNFmc",
        "colab_type": "text"
      },
      "source": [
        "The dataset accompanying this pset contains a sample of order data from a fictitious Mexican restaurant called Taqqui's Taqueria. For simplicity's sake, this is only a subset of the types of data you'd see for orders from a real restaurant. Moreover, each column contains only one value per row.\n",
        "\n",
        "For each of these practice problems, try to use functions that give the a targeted answer. For example, .info() provides a plethora of metadata, but if a question asks for a specific piece, try to return just that."
      ]
    },
    {
      "cell_type": "markdown",
      "metadata": {
        "id": "JTIlk4jjUskq",
        "colab_type": "text"
      },
      "source": [
        "## Data Dictionary"
      ]
    },
    {
      "cell_type": "markdown",
      "metadata": {
        "id": "_8SF7RFVVztc",
        "colab_type": "text"
      },
      "source": [
        "**Order ID**: unique ID for the order\n",
        "\n",
        "**Filling**: choice of filling\n",
        "\n",
        "**Taco Quantity**: how many tacos were ordered\n",
        "\n",
        "**Side**: choice from the menu's side offerings, *OPTIONAL*\n",
        "\n",
        "**Dessert**: choice from the menu's dessert offerings, *OPTIONAL*\n",
        "\n",
        "\n"
      ]
    },
    {
      "cell_type": "markdown",
      "metadata": {
        "id": "X1yK3mFViksX",
        "colab_type": "text"
      },
      "source": [
        "### Menu"
      ]
    },
    {
      "cell_type": "markdown",
      "metadata": {
        "id": "TnJ1M6cDRBat",
        "colab_type": "text"
      },
      "source": [
        "**Taco Fillings**\n",
        "* *Al Pastor*: Sauteed Pork marinated in lemon and pineapple juice\n",
        "* *Barbacoa*: Shredded Beef\n",
        "* *Cabeza*: Beef Cheek\n",
        "* *Camarones*: Grilled shrimp\n",
        "* *Carne Asada*: Grilled Steak\n",
        "* *Carnitas*: Diced Pork\n",
        "* *Chorizo*: Spicy Mexican sausage\n",
        "* *Hongos*: Grilled Mushrooms\n",
        "* *Lengua*: Beef Tongue\n",
        "* *Nopales*: Grilled cactus\n",
        "* *Pescado*: Marinated Tilapia\n",
        "* *Picadillo*: Ground Beef\n",
        "* *Pollo Asada*: Grilled Chicken\n",
        "\n",
        "**Sides**\n",
        "* *Esquites*: Mexican street corn with chili powder, queso fresco, and lime juice\n",
        "* *Frijoles*: Refried beans\n",
        "* *Guacamole*: Guacamole with tortilla chips\n",
        "\n",
        "**Desserts**\n",
        "* **Flan**: Creamy, baked caramel custard\n",
        "* **Churro**: fried pastry dough coated in cinnamon\n",
        "* **Tres Leches**: Creamy vanilla cinnamon sponge cake\n",
        "* **Arroz con Leche**: Spiced rice pudding with raisins\n"
      ]
    },
    {
      "cell_type": "markdown",
      "metadata": {
        "id": "L5JVKbnvXQ69",
        "colab_type": "text"
      },
      "source": [
        "## Practice Section 1"
      ]
    },
    {
      "cell_type": "markdown",
      "metadata": {
        "id": "ap8noF3MXXnf",
        "colab_type": "text"
      },
      "source": [
        "### 1. Import the necessary libraries"
      ]
    },
    {
      "cell_type": "code",
      "metadata": {
        "id": "vGSPxsahXW4p",
        "colab_type": "code",
        "colab": {}
      },
      "source": [
        "import pandas as pd\n",
        "import numpy as np"
      ],
      "execution_count": 0,
      "outputs": []
    },
    {
      "cell_type": "markdown",
      "metadata": {
        "id": "HsHYU-2hXZba",
        "colab_type": "text"
      },
      "source": [
        "### 2. Load and copy the order data from 'taqueria.csv'. Your ultimate df (dataframe) should be called \"orders\"."
      ]
    },
    {
      "cell_type": "code",
      "metadata": {
        "id": "AoB6aFKbUVA9",
        "colab_type": "code",
        "colab": {}
      },
      "source": [
        "# https://raw.githubusercontent.com/mottaquikarim/pycontent/master/content/raw_data/taqueria.csv"
      ],
      "execution_count": 0,
      "outputs": []
    },
    {
      "cell_type": "code",
      "metadata": {
        "id": "k9X6Hixdi2Fd",
        "colab_type": "code",
        "colab": {
          "base_uri": "https://localhost:8080/",
          "height": 255
        },
        "outputId": "14334127-6cce-4e22-9a06-bfc4a557f5ae"
      },
      "source": [
        "df = pd.read_csv('https://raw.githubusercontent.com/mottaquikarim/pycontent/master/content/raw_data/taqueria.csv')\n",
        "orders = df.copy()\n",
        "print(orders)"
      ],
      "execution_count": 11,
      "outputs": [
        {
          "output_type": "stream",
          "text": [
            "        Filling  Taco Quantity       Side          Dessert  Order ID\n",
            "0        hongos              3  guacamole  arroz con leche    313389\n",
            "1       nopales              4   esquites           churro    847727\n",
            "2     al pastor              3        NaN      tres leches    157624\n",
            "3      barbacoa              5   frijoles             flan    506812\n",
            "4   carne asada              4   esquites              NaN    574514\n",
            "..          ...            ...        ...              ...       ...\n",
            "95    picadillo              6   esquites  arroz con leche    208063\n",
            "96       cabeza              5   esquites             flan    949808\n",
            "97  carne asada              1   frijoles             flan    748810\n",
            "98    picadillo              4   esquites             flan    490246\n",
            "99  pollo asada              1        NaN      tres leches    345585\n",
            "\n",
            "[100 rows x 5 columns]\n"
          ],
          "name": "stdout"
        }
      ]
    },
    {
      "cell_type": "markdown",
      "metadata": {
        "id": "42q5Qv44XgLe",
        "colab_type": "text"
      },
      "source": [
        "### 3. View a summary of the metadata for the orders df."
      ]
    },
    {
      "cell_type": "code",
      "metadata": {
        "id": "ZqO94b4DkCE_",
        "colab_type": "code",
        "colab": {
          "base_uri": "https://localhost:8080/",
          "height": 221
        },
        "outputId": "80c05d4b-1e75-4228-9657-cfd2b49da1db"
      },
      "source": [
        "orders.info()"
      ],
      "execution_count": 12,
      "outputs": [
        {
          "output_type": "stream",
          "text": [
            "<class 'pandas.core.frame.DataFrame'>\n",
            "RangeIndex: 100 entries, 0 to 99\n",
            "Data columns (total 5 columns):\n",
            " #   Column         Non-Null Count  Dtype \n",
            "---  ------         --------------  ----- \n",
            " 0   Filling        100 non-null    object\n",
            " 1   Taco Quantity  100 non-null    int64 \n",
            " 2   Side           78 non-null     object\n",
            " 3   Dessert        79 non-null     object\n",
            " 4   Order ID       100 non-null    int64 \n",
            "dtypes: int64(2), object(3)\n",
            "memory usage: 4.0+ KB\n"
          ],
          "name": "stdout"
        }
      ]
    },
    {
      "cell_type": "markdown",
      "metadata": {
        "id": "U8llKxo1gbkr",
        "colab_type": "text"
      },
      "source": [
        "### 4. How many rows and columns are there? "
      ]
    },
    {
      "cell_type": "code",
      "metadata": {
        "id": "qY0AXh6fkseT",
        "colab_type": "code",
        "colab": {
          "base_uri": "https://localhost:8080/",
          "height": 34
        },
        "outputId": "39854d3a-ba95-42b7-8998-3a8cff0dfdf8"
      },
      "source": [
        "orders.shape"
      ],
      "execution_count": 16,
      "outputs": [
        {
          "output_type": "execute_result",
          "data": {
            "text/plain": [
              "(100, 5)"
            ]
          },
          "metadata": {
            "tags": []
          },
          "execution_count": 16
        }
      ]
    },
    {
      "cell_type": "markdown",
      "metadata": {
        "id": "ONlvZCKXUUY0",
        "colab_type": "text"
      },
      "source": [
        "### 5. What are the names of the columns in the orders df?"
      ]
    },
    {
      "cell_type": "code",
      "metadata": {
        "id": "GtSaKGkJknWc",
        "colab_type": "code",
        "colab": {
          "base_uri": "https://localhost:8080/",
          "height": 34
        },
        "outputId": "c1d7eeca-4b5e-463a-84e0-b2f9c7994dfa"
      },
      "source": [
        "orders.columns"
      ],
      "execution_count": 19,
      "outputs": [
        {
          "output_type": "execute_result",
          "data": {
            "text/plain": [
              "Index(['Filling', 'Taco Quantity', 'Side', 'Dessert', 'Order ID'], dtype='object')"
            ]
          },
          "metadata": {
            "tags": []
          },
          "execution_count": 19
        }
      ]
    },
    {
      "cell_type": "markdown",
      "metadata": {
        "id": "-STdZgo-bRVi",
        "colab_type": "text"
      },
      "source": [
        "### 6. View the last 12 rows in the orders df."
      ]
    },
    {
      "cell_type": "code",
      "metadata": {
        "id": "0NqOw_OhXjBL",
        "colab_type": "code",
        "colab": {
          "base_uri": "https://localhost:8080/",
          "height": 421
        },
        "outputId": "36b44770-b467-4b39-a1c8-5e2a2e3c2d39"
      },
      "source": [
        "orders.tail(12)"
      ],
      "execution_count": 20,
      "outputs": [
        {
          "output_type": "execute_result",
          "data": {
            "text/html": [
              "<div>\n",
              "<style scoped>\n",
              "    .dataframe tbody tr th:only-of-type {\n",
              "        vertical-align: middle;\n",
              "    }\n",
              "\n",
              "    .dataframe tbody tr th {\n",
              "        vertical-align: top;\n",
              "    }\n",
              "\n",
              "    .dataframe thead th {\n",
              "        text-align: right;\n",
              "    }\n",
              "</style>\n",
              "<table border=\"1\" class=\"dataframe\">\n",
              "  <thead>\n",
              "    <tr style=\"text-align: right;\">\n",
              "      <th></th>\n",
              "      <th>Filling</th>\n",
              "      <th>Taco Quantity</th>\n",
              "      <th>Side</th>\n",
              "      <th>Dessert</th>\n",
              "      <th>Order ID</th>\n",
              "    </tr>\n",
              "  </thead>\n",
              "  <tbody>\n",
              "    <tr>\n",
              "      <th>88</th>\n",
              "      <td>pollo asada</td>\n",
              "      <td>4</td>\n",
              "      <td>frijoles</td>\n",
              "      <td>NaN</td>\n",
              "      <td>261914</td>\n",
              "    </tr>\n",
              "    <tr>\n",
              "      <th>89</th>\n",
              "      <td>carne asada</td>\n",
              "      <td>6</td>\n",
              "      <td>NaN</td>\n",
              "      <td>arroz con leche</td>\n",
              "      <td>163409</td>\n",
              "    </tr>\n",
              "    <tr>\n",
              "      <th>90</th>\n",
              "      <td>al pastor</td>\n",
              "      <td>6</td>\n",
              "      <td>NaN</td>\n",
              "      <td>tres leches</td>\n",
              "      <td>648109</td>\n",
              "    </tr>\n",
              "    <tr>\n",
              "      <th>91</th>\n",
              "      <td>camarones</td>\n",
              "      <td>6</td>\n",
              "      <td>frijoles</td>\n",
              "      <td>tres leches</td>\n",
              "      <td>544654</td>\n",
              "    </tr>\n",
              "    <tr>\n",
              "      <th>92</th>\n",
              "      <td>picadillo</td>\n",
              "      <td>5</td>\n",
              "      <td>NaN</td>\n",
              "      <td>churro</td>\n",
              "      <td>157876</td>\n",
              "    </tr>\n",
              "    <tr>\n",
              "      <th>93</th>\n",
              "      <td>al pastor</td>\n",
              "      <td>3</td>\n",
              "      <td>frijoles</td>\n",
              "      <td>arroz con leche</td>\n",
              "      <td>436214</td>\n",
              "    </tr>\n",
              "    <tr>\n",
              "      <th>94</th>\n",
              "      <td>camarones</td>\n",
              "      <td>4</td>\n",
              "      <td>esquites</td>\n",
              "      <td>churro</td>\n",
              "      <td>467397</td>\n",
              "    </tr>\n",
              "    <tr>\n",
              "      <th>95</th>\n",
              "      <td>picadillo</td>\n",
              "      <td>6</td>\n",
              "      <td>esquites</td>\n",
              "      <td>arroz con leche</td>\n",
              "      <td>208063</td>\n",
              "    </tr>\n",
              "    <tr>\n",
              "      <th>96</th>\n",
              "      <td>cabeza</td>\n",
              "      <td>5</td>\n",
              "      <td>esquites</td>\n",
              "      <td>flan</td>\n",
              "      <td>949808</td>\n",
              "    </tr>\n",
              "    <tr>\n",
              "      <th>97</th>\n",
              "      <td>carne asada</td>\n",
              "      <td>1</td>\n",
              "      <td>frijoles</td>\n",
              "      <td>flan</td>\n",
              "      <td>748810</td>\n",
              "    </tr>\n",
              "    <tr>\n",
              "      <th>98</th>\n",
              "      <td>picadillo</td>\n",
              "      <td>4</td>\n",
              "      <td>esquites</td>\n",
              "      <td>flan</td>\n",
              "      <td>490246</td>\n",
              "    </tr>\n",
              "    <tr>\n",
              "      <th>99</th>\n",
              "      <td>pollo asada</td>\n",
              "      <td>1</td>\n",
              "      <td>NaN</td>\n",
              "      <td>tres leches</td>\n",
              "      <td>345585</td>\n",
              "    </tr>\n",
              "  </tbody>\n",
              "</table>\n",
              "</div>"
            ],
            "text/plain": [
              "        Filling  Taco Quantity      Side          Dessert  Order ID\n",
              "88  pollo asada              4  frijoles              NaN    261914\n",
              "89  carne asada              6       NaN  arroz con leche    163409\n",
              "90    al pastor              6       NaN      tres leches    648109\n",
              "91    camarones              6  frijoles      tres leches    544654\n",
              "92    picadillo              5       NaN           churro    157876\n",
              "93    al pastor              3  frijoles  arroz con leche    436214\n",
              "94    camarones              4  esquites           churro    467397\n",
              "95    picadillo              6  esquites  arroz con leche    208063\n",
              "96       cabeza              5  esquites             flan    949808\n",
              "97  carne asada              1  frijoles             flan    748810\n",
              "98    picadillo              4  esquites             flan    490246\n",
              "99  pollo asada              1       NaN      tres leches    345585"
            ]
          },
          "metadata": {
            "tags": []
          },
          "execution_count": 20
        }
      ]
    },
    {
      "cell_type": "markdown",
      "metadata": {
        "id": "GzvMFx5kbaBZ",
        "colab_type": "text"
      },
      "source": [
        "### 7. Set \"Order ID\" as the index and remove it as a column from the dataframe. View the first 5 rows of the updated orders df."
      ]
    },
    {
      "cell_type": "code",
      "metadata": {
        "id": "JySVMJTYj0QT",
        "colab_type": "code",
        "colab": {}
      },
      "source": [
        ""
      ],
      "execution_count": 0,
      "outputs": []
    },
    {
      "cell_type": "markdown",
      "metadata": {
        "id": "HBouQifgbjCJ",
        "colab_type": "text"
      },
      "source": [
        "### 8. List the columns in the dataframe again"
      ]
    },
    {
      "cell_type": "code",
      "metadata": {
        "id": "EXDDee5Ek8fr",
        "colab_type": "code",
        "colab": {}
      },
      "source": [
        ""
      ],
      "execution_count": 0,
      "outputs": []
    },
    {
      "cell_type": "markdown",
      "metadata": {
        "id": "EvJ1PA7_UzZP",
        "colab_type": "text"
      },
      "source": [
        "## Practice Section 2"
      ]
    },
    {
      "cell_type": "markdown",
      "metadata": {
        "id": "MlRL4RpBcStb",
        "colab_type": "text"
      },
      "source": [
        "### 9. Return the dessert column."
      ]
    },
    {
      "cell_type": "code",
      "metadata": {
        "id": "EbxYpotAcVSy",
        "colab_type": "code",
        "colab": {}
      },
      "source": [
        ""
      ],
      "execution_count": 0,
      "outputs": []
    },
    {
      "cell_type": "markdown",
      "metadata": {
        "id": "As4iDBLaZD-q",
        "colab_type": "text"
      },
      "source": [
        "### 10. Create a separate dataframe for just \"Filling\" and \"Taco Quantity\". Preview the first 10 rows."
      ]
    },
    {
      "cell_type": "code",
      "metadata": {
        "id": "k7h8mVEnZRuz",
        "colab_type": "code",
        "colab": {}
      },
      "source": [
        ""
      ],
      "execution_count": 0,
      "outputs": []
    },
    {
      "cell_type": "markdown",
      "metadata": {
        "id": "tRg237uZcJs0",
        "colab_type": "text"
      },
      "source": [
        "### 11. Return row 24."
      ]
    },
    {
      "cell_type": "code",
      "metadata": {
        "id": "TWGV5bUdZ7ND",
        "colab_type": "code",
        "colab": {}
      },
      "source": [
        ""
      ],
      "execution_count": 0,
      "outputs": []
    },
    {
      "cell_type": "markdown",
      "metadata": {
        "id": "YzykH5KCcDY4",
        "colab_type": "text"
      },
      "source": [
        "### 12. Return order #893001."
      ]
    },
    {
      "cell_type": "code",
      "metadata": {
        "id": "ZxML4mZlVLDK",
        "colab_type": "code",
        "colab": {}
      },
      "source": [
        ""
      ],
      "execution_count": 0,
      "outputs": []
    },
    {
      "cell_type": "markdown",
      "metadata": {
        "id": "rggi1QXfcC7u",
        "colab_type": "text"
      },
      "source": [
        "### 13. Return all the orders from #800394 through the end of the sample."
      ]
    },
    {
      "cell_type": "code",
      "metadata": {
        "id": "jCo6WDOFViVQ",
        "colab_type": "code",
        "colab": {}
      },
      "source": [
        ""
      ],
      "execution_count": 0,
      "outputs": []
    },
    {
      "cell_type": "markdown",
      "metadata": {
        "id": "XdKzl-yAcCgp",
        "colab_type": "text"
      },
      "source": [
        "### 14. Return 10 orders, starting at row 73."
      ]
    },
    {
      "cell_type": "code",
      "metadata": {
        "id": "n00g_DQiWMTv",
        "colab_type": "code",
        "colab": {}
      },
      "source": [
        ""
      ],
      "execution_count": 0,
      "outputs": []
    },
    {
      "cell_type": "markdown",
      "metadata": {
        "id": "rTuczgF2Xl5D",
        "colab_type": "text"
      },
      "source": [
        "### 15. Return any 3x3 chunk from the orders df."
      ]
    },
    {
      "cell_type": "code",
      "metadata": {
        "id": "ifxC191QXlFf",
        "colab_type": "code",
        "colab": {}
      },
      "source": [
        ""
      ],
      "execution_count": 0,
      "outputs": []
    },
    {
      "cell_type": "markdown",
      "metadata": {
        "id": "UYNycL6mXe8z",
        "colab_type": "text"
      },
      "source": [
        "## Practice Section 3"
      ]
    },
    {
      "cell_type": "markdown",
      "metadata": {
        "id": "GoRhbtVhcwiF",
        "colab_type": "text"
      },
      "source": [
        "### 16. Return the side order from row 63."
      ]
    },
    {
      "cell_type": "code",
      "metadata": {
        "id": "kLlLOnG4c0F2",
        "colab_type": "code",
        "colab": {}
      },
      "source": [
        ""
      ],
      "execution_count": 0,
      "outputs": []
    },
    {
      "cell_type": "markdown",
      "metadata": {
        "id": "ZrWWEFVSd4ud",
        "colab_type": "text"
      },
      "source": [
        "### 17. Return just the taco order data (i.e. filling and quantity) for orders 25 to 40."
      ]
    },
    {
      "cell_type": "code",
      "metadata": {
        "id": "uJPRhPIIeC76",
        "colab_type": "code",
        "colab": {}
      },
      "source": [
        ""
      ],
      "execution_count": 0,
      "outputs": []
    },
    {
      "cell_type": "markdown",
      "metadata": {
        "id": "B0CPP8nrXNp8",
        "colab_type": "text"
      },
      "source": [
        "### 18. Return the dessert orders from order numbers 938906, 373126, 409317, & 129834."
      ]
    },
    {
      "cell_type": "code",
      "metadata": {
        "id": "QRHgTc5TWpi9",
        "colab_type": "code",
        "colab": {}
      },
      "source": [
        ""
      ],
      "execution_count": 0,
      "outputs": []
    },
    {
      "cell_type": "markdown",
      "metadata": {
        "id": "BPjmm72eXX32",
        "colab_type": "text"
      },
      "source": [
        "### 19. How many tacos did the first 10 people buy?"
      ]
    },
    {
      "cell_type": "code",
      "metadata": {
        "id": "0O0pU643XeFt",
        "colab_type": "code",
        "colab": {}
      },
      "source": [
        ""
      ],
      "execution_count": 0,
      "outputs": []
    },
    {
      "cell_type": "markdown",
      "metadata": {
        "id": "Mpd7uVCkbdx0",
        "colab_type": "text"
      },
      "source": [
        "### 20. Return the unique types of taco fillings available (not via the data dictionary)."
      ]
    },
    {
      "cell_type": "code",
      "metadata": {
        "id": "EjxKjMw0bqmv",
        "colab_type": "code",
        "colab": {}
      },
      "source": [
        ""
      ],
      "execution_count": 0,
      "outputs": []
    }
  ]
}